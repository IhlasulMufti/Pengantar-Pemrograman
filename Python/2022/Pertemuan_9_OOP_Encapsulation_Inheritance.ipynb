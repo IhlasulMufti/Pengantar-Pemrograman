{
  "cells": [
    {
      "cell_type": "markdown",
      "metadata": {
        "id": "view-in-github",
        "colab_type": "text"
      },
      "source": [
        "<a href=\"https://colab.research.google.com/github/IhlasulMufti/Pengantar-Pemrograman/blob/main/Python/2022/Pertemuan_9_OOP_Encapsulation_Inheritance.ipynb\" target=\"_parent\"><img src=\"https://colab.research.google.com/assets/colab-badge.svg\" alt=\"Open In Colab\"/></a>"
      ]
    },
    {
      "cell_type": "markdown",
      "source": [
        "## **Cara Penggunaan Google Colab !!**\n",
        "\n",
        "**klik tanda 🔽 untuk expand program**\n",
        "> contoh: 🔽 A. Identifier\n",
        "\n",
        "**cara menjalankan program:**\n",
        "* klik  icon ▶️ di bagian sudut kiri atas\n",
        "* Ketik Cmd/Ctrl+Enter untuk menjalankan sel di tempatnya\n",
        "* Ketik Shift+Enter untuk menjalankan sel dan memindahkan fokus ke sel berikutnya (menambahkan satu jika tidak ada);\n",
        "* Ketik Alt+Enter untuk menjalankan sel dan menyisipkan sel kode baru tepat di bawahnya. \n",
        "* note : biasanya running pertama kali agak lama\n",
        "\n",
        "\n",
        "\n",
        "<font color=\"red\" size=4>\n",
        "Silahkan pelajari programnya, BOLEH diubah-ubah isinya. Tidak akan berpengaruh ke file asli, reload page untuk mengembalikan file asli"
      ],
      "metadata": {
        "id": "hfaU1q7W4icX"
      }
    },
    {
      "cell_type": "markdown",
      "metadata": {
        "id": "5IBvgK_RMZqq"
      },
      "source": [
        "# A. Access Modifier\n",
        "\n",
        "**Access Modifier** adalah sebuah “hak akses” yang diberikan kepada sebuah variabel/method/class untuk mebatasi jangkauan aksesnya."
      ]
    },
    {
      "cell_type": "code",
      "execution_count": null,
      "metadata": {
        "id": "JREJkPs_MZqy"
      },
      "outputs": [],
      "source": [
        "# public : variabel biasa yang tida dalam indent dapat diakses dari mana saja\n",
        "foo = 12\n",
        "# protected : diawali dengan satu underscore, dapat diakses oleh subclass\n",
        "_foo = 10\n",
        "# private : hanya dapat diakses di dalam class\n",
        "__foo = 8"
      ]
    },
    {
      "cell_type": "markdown",
      "metadata": {
        "id": "JB_tLrTNMZqz"
      },
      "source": [
        "note: **protected** pada dasarnya sama saja dengan public, hanya saja diperlakukan berbeda oleh programmer sebagai variabel untuk tidak diakses dari luar class dengan tujuan tertentu"
      ]
    },
    {
      "cell_type": "code",
      "execution_count": null,
      "metadata": {
        "id": "LTF1vUUgMZqz",
        "outputId": "9975c704-ace1-4d14-fb14-b76be030ea93"
      },
      "outputs": [
        {
          "name": "stdout",
          "output_type": "stream",
          "text": [
            "dapat diakses\n",
            "dapat diakses\n"
          ]
        }
      ],
      "source": [
        "class Mahasiswa:\n",
        "    def __init__(self):\n",
        "        self.foo = \"dapat diakses\"\n",
        "        self._foo = \"dapat diakses\"\n",
        "        self.__foo = \"tidak dapat diakses\"\n",
        "      \n",
        "udin = Mahasiswa()  \n",
        "print(udin.foo)\n",
        "print(udin._foo)\n",
        "\n",
        "# error 👇 \n",
        "# print(udin.__foo) "
      ]
    },
    {
      "cell_type": "markdown",
      "metadata": {
        "id": "Bq6JxtsNMZq0"
      },
      "source": [
        "# Setter dan getter\n",
        "**setter** berfungsi untuk mengubah nilai atribut yang bersifat protected atau private, sedangkan **getter** berfungsi untuk mengambil nilai"
      ]
    },
    {
      "cell_type": "code",
      "execution_count": null,
      "metadata": {
        "id": "dPXuSE19MZq0",
        "outputId": "d43c1144-30d1-4a82-a50b-c0672144ab43"
      },
      "outputs": [
        {
          "name": "stdout",
          "output_type": "stream",
          "text": [
            "niknya baco :  830807*******\n"
          ]
        }
      ],
      "source": [
        "class Mahasiswa:\n",
        "    def __init__(self):\n",
        "        self.__NIK = \"730807040*******\"\n",
        "        self._NIM = \"H071201058\"\n",
        "\n",
        "    # Setter : mengubah nilai\n",
        "    def setNIK(self, NIK_baru):\n",
        "        self.__NIK = NIK_baru   #<- perhatikan polanya\n",
        "    \n",
        "        # nama tidak berpengaruh \n",
        "    def ubahNIM(self, NIM_baru):\n",
        "        self.__NIM = NIM_baru   #<- perhatikan polanya\n",
        "\n",
        "        # Getter : mengambil nilai\n",
        "    def getNIK(self):\n",
        "        return self.__NIK   #<- perhatikan polanya\n",
        "    \n",
        "        # nama tidak berpengaruh \n",
        "    def ambilNIM(self):\n",
        "        return self.__NIM   #<- perhatikan polanya\n",
        "\n",
        "# Inisialisasi objek\n",
        "baco = Mahasiswa()\n",
        "\n",
        "# ubah nilai atribut dgn setter\n",
        "baco.setNIK(\"830807*******\")\n",
        "\n",
        "# ambil nilai atribut dengan setter\n",
        "niknya_baco = baco.getNIK()\n",
        "\n",
        "# print nilainya\n",
        "print(\"niknya baco : \", niknya_baco)"
      ]
    },
    {
      "cell_type": "markdown",
      "metadata": {
        "id": "WRrq1PHeMZq1"
      },
      "source": [
        "# Inheritance\n",
        "**inheritance** (pewarisan) adalah fitur dalam bahasa pemrograman untuk mengambil struktur suatu class pada class lain tanpa menulis ulang code nya"
      ]
    },
    {
      "cell_type": "markdown",
      "metadata": {
        "id": "Uy6WOOnxMZq1"
      },
      "source": [
        "**mewarisi class**"
      ]
    },
    {
      "cell_type": "code",
      "execution_count": null,
      "metadata": {
        "id": "gVUHpJ7_MZq1",
        "outputId": "8b2344a5-9629-425b-a022-e27025f8109d"
      },
      "outputs": [
        {
          "name": "stdout",
          "output_type": "stream",
          "text": [
            "makhluk hidup\n"
          ]
        }
      ],
      "source": [
        "# pewaris (parent)\n",
        "class MakhlukHidup:\n",
        "    def printNama(self):\n",
        "        print(\"makhluk hidup\")\n",
        "\n",
        "# mewarisi \"MakhlukHidup\" (child)    \n",
        "class Hewan(MakhlukHidup): # mewarisi class \"MakhlukHidup\" \n",
        "    pass # kosong\n",
        "\n",
        "# inisialisasi objek dari class Hewan\n",
        "sapi = Hewan()\n",
        "# method/fungsi pada class \"parent\" juga dimiliki oleh \"child\"nya\n",
        "sapi.printNama()"
      ]
    },
    {
      "cell_type": "markdown",
      "metadata": {
        "id": "NalX4LWrMZq1"
      },
      "source": [
        "**menimpa (override) method**"
      ]
    },
    {
      "cell_type": "code",
      "execution_count": null,
      "metadata": {
        "id": "RauDXiMgMZq2",
        "outputId": "b5a6631e-e34b-44b4-a1c1-042247b54b73"
      },
      "outputs": [
        {
          "name": "stdout",
          "output_type": "stream",
          "text": [
            "Hewan\n"
          ]
        }
      ],
      "source": [
        "# parent\n",
        "class MakhlukHidup:\n",
        "    def printNama(self):\n",
        "        print(\"makhluk hidup\")\n",
        "\n",
        "# child    \n",
        "class Hewan(MakhlukHidup): # mewarisi class \"MakhlukHidup\" \n",
        "    def printNama(self): # method dengan nama yang sama akan ditimpa\n",
        "        print(\"Hewan\")\n",
        "\n",
        "# inisialisasi objek dari class Hewan\n",
        "sapi = Hewan()\n",
        "# method/fungsi pada class \"parent\" juga dimiliki oleh \"child\"nya\n",
        "sapi.printNama()"
      ]
    },
    {
      "cell_type": "markdown",
      "metadata": {
        "id": "zsi2WiK_MZq2"
      },
      "source": [
        "**menambahkan atribut pada \"child\" tanpa menimpa atribut yang diwarisi dari \"parent\"**"
      ]
    },
    {
      "cell_type": "code",
      "execution_count": null,
      "metadata": {
        "id": "64sOPNzjMZq2",
        "outputId": "068a6cdf-ec5f-4e92-bc7c-0b677aab88d9"
      },
      "outputs": [
        {
          "name": "stdout",
          "output_type": "stream",
          "text": [
            "atribut parent : {'nama': 'Makhluk Hidup', 'jumlahMata': 2, 'jumlahKaki': 4}\n",
            "atribut child : {'nama': 'Makhluk Hidup', 'jumlahMata': 2, 'jumlahKaki': 4, 'jenis': 'Badak'}\n"
          ]
        }
      ],
      "source": [
        "class MakhlukHidup:\n",
        "    def __init__(self) :\n",
        "        self.nama = \"Makhluk Hidup\"\n",
        "        self.jumlahMata = 2\n",
        "        self.jumlahKaki = 4\n",
        "\n",
        "#    menambah atribut pada class yang diwarisi (child), tanpa menghilangkan\n",
        "# atribut yang diturunkan dari pewaris (parent)\n",
        "class Hewan(MakhlukHidup):\n",
        "    def __init__(self):\n",
        "        super().__init__() # memanggil ulang init pada class super agar tidak tertimpa (overide)\n",
        "        self.jenis = \"Badak\"\n",
        "\n",
        "# mengecek atribut kedua class\n",
        "print(\"atribut parent :\", MakhlukHidup().__dict__)\n",
        "print(\"atribut child :\", Hewan().__dict__)\n",
        "\n"
      ]
    },
    {
      "cell_type": "markdown",
      "source": [
        "menambahkan parameter **..init..** pada **child**  "
      ],
      "metadata": {
        "id": "iB81YvmwTXHe"
      }
    },
    {
      "cell_type": "code",
      "source": [
        "class MakhlukHidup:\n",
        "    def __init__(self, nama, jumlah_mata, jumlah_kaki) : # 3 parameter\n",
        "        self.nama = nama\n",
        "        self.jumlahMata = jumlah_mata\n",
        "        self.jumlahKaki = jumlah_kaki\n",
        "\n",
        "#    menambah atribut pada class yang diwarisi (child), tanpa menghilangkan\n",
        "# atribut yang diturunkan dari pewaris (parent)\n",
        "class Hewan(MakhlukHidup):\n",
        "    def __init__(self, nama, jumlah_mata, jumlah_kaki, jenis):  # 4 parameter\n",
        "        super().__init__(nama, jumlah_mata, jumlah_kaki) # memanggil ulang init pada class super beserta parameternya\n",
        "        self.jenis = jenis # jenis merupakan atribut tambahan\n",
        "        # nama, jumlah kaki dan jumlah mata tidak perlu lagi di inisialisasi ulang\n",
        "\n",
        "# mengecek atribut kedua class\n",
        "mh1 = MakhlukHidup(\"Thanos\", 2, 2)\n",
        "hewan1 = Hewan(\"Otis\", 2, 4, \"Sapi\")\n",
        "print(\"atribut parent :\", mh1.__dict__)\n",
        "print(\"atribut child :\", hewan1.__dict__)\n"
      ],
      "metadata": {
        "colab": {
          "base_uri": "https://localhost:8080/"
        },
        "id": "vLUJ97FFTQLU",
        "outputId": "07a2f8f2-0200-44e2-bcb0-8857fa356c65"
      },
      "execution_count": null,
      "outputs": [
        {
          "output_type": "stream",
          "name": "stdout",
          "text": [
            "atribut parent : {'nama': 'Thanos', 'jumlahMata': 2, 'jumlahKaki': 2}\n",
            "atribut child : {'nama': 'Otis', 'jumlahMata': 2, 'jumlahKaki': 4, 'jenis': 'Sapi'}\n"
          ]
        }
      ]
    },
    {
      "cell_type": "markdown",
      "metadata": {
        "id": "0mvNPTBQMZq2"
      },
      "source": [
        "**pewarisan oleh beberapa class**"
      ]
    },
    {
      "cell_type": "code",
      "execution_count": null,
      "metadata": {
        "id": "xslxxJvxMZq2",
        "outputId": "e300d0de-7c16-4e16-8340-1f1a185dc235"
      },
      "outputs": [
        {
          "name": "stdout",
          "output_type": "stream",
          "text": [
            "{'nama': 'Tumbuhan', 'jumlahMata': 0, 'jumlahKaki': 0}\n",
            "{'nama': 'Manusia', 'jumlahMata': 2, 'jumlahKaki': 2}\n",
            "{'nama': 'Hewan', 'jumlahMata': 2, 'jumlahKaki': 4}\n"
          ]
        }
      ],
      "source": [
        "# Pewaris (parent)\n",
        "class MakhlukHidup:\n",
        "    def __init__(self) :\n",
        "        self.nama = \"Makhluk Hidup\"\n",
        "        self.jumlahMata = 2\n",
        "        self.jumlahKaki = 4\n",
        "\n",
        "# mewarisi \"MakhlukHidup\" (child)\n",
        "class Hewan(MakhlukHidup):\n",
        "    def __init__(self):\n",
        "        super().__init__()\n",
        "        self.nama = \"Hewan\"\n",
        "\n",
        "# mewarisi \"MakhlukHidup\" (child)\n",
        "class Manusia(MakhlukHidup):\n",
        "    def __init__(self):\n",
        "        super().__init__()\n",
        "        self.nama = \"Manusia\"\n",
        "        self.jumlahKaki = 2\n",
        "\n",
        "# mewarisi \"MakhlukHidup\" (child)\n",
        "class Tumbuhan(MakhlukHidup):\n",
        "    def __init__(self):\n",
        "        super().__init__()\n",
        "        self.nama = \"Tumbuhan\"\n",
        "        self.jumlahMata = 0\n",
        "        self.jumlahKaki = 0\n",
        "        \n",
        "\n",
        "\n",
        "print(Tumbuhan().__dict__)\n",
        "print(Manusia().__dict__)\n",
        "print(Hewan().__dict__)\n",
        "\n",
        "\n",
        "# ayam = Hewan(\"ayam\", 2, 2)\n",
        "# mawar = Tumbuhan(\"Mawar\", 0, 0)\n",
        "\n",
        "# print(ayam.__dict__)\n",
        "# print(mawar.__dict__)"
      ]
    },
    {
      "cell_type": "markdown",
      "metadata": {
        "id": "avDcKImJMZq3"
      },
      "source": [
        "# Extra"
      ]
    },
    {
      "cell_type": "markdown",
      "metadata": {
        "id": "35T9t3XxMZq3"
      },
      "source": [
        "**class variable** \n",
        "\n",
        "adalah variabel yang dimiliki oleh class dan diakses melalui nama classnya, sedangkan **instance variable** diakses menggunakan nama objek (objek.foo) atau menggunkan self jika di dalam class (self.foo)"
      ]
    },
    {
      "cell_type": "code",
      "execution_count": null,
      "metadata": {
        "id": "XxJCe2LhMZq3",
        "outputId": "19d46b0d-5ed6-4d55-f64c-bfb01f604e2a"
      },
      "outputs": [
        {
          "name": "stdout",
          "output_type": "stream",
          "text": [
            "3\n"
          ]
        }
      ],
      "source": [
        "class MakhlukHidup:\n",
        "    populasi = 0 # class variabel \n",
        "    \n",
        "    def __init__(self):\n",
        "        MakhlukHidup.populasi +=1 # nilai populasi bertamba setiap kali sebuah objek di inisialisasi\n",
        "        self.nama = \"Makhluk Hidup\"\n",
        "        self.jumlahMata = 2\n",
        "        self.jumlahKaki = 4\n",
        "        \n",
        "\n",
        "mahluk1 = MakhlukHidup()\n",
        "mahluk2 = MakhlukHidup()\n",
        "mahluk3 = MakhlukHidup()\n",
        "\n",
        "\n",
        "print(MakhlukHidup.populasi)\n",
        "    "
      ]
    },
    {
      "cell_type": "code",
      "source": [
        "!python --version"
      ],
      "metadata": {
        "colab": {
          "base_uri": "https://localhost:8080/"
        },
        "id": "i_oXiVTEZ-NO",
        "outputId": "5c3a2eaf-ae0e-4487-e48f-54a5b7caad1f"
      },
      "execution_count": null,
      "outputs": [
        {
          "output_type": "stream",
          "name": "stdout",
          "text": [
            "Python 3.7.15\n"
          ]
        }
      ]
    },
    {
      "cell_type": "markdown",
      "metadata": {
        "id": "0sWWPhbbMZq3"
      },
      "source": [
        "**parameter hint ' : '**\n",
        "\n",
        "hint adalah petunjuk yang diberikan pada parameter untuk menginformasikan jenis data yang akan diterimanya"
      ]
    },
    {
      "cell_type": "code",
      "execution_count": null,
      "metadata": {
        "id": "zrTCQdpXMZq3",
        "outputId": "617258c4-e6d1-44bd-fb89-cc9b27bd4c38",
        "colab": {
          "base_uri": "https://localhost:8080/"
        }
      },
      "outputs": [
        {
          "output_type": "stream",
          "name": "stdout",
          "text": [
            "18\n"
          ]
        }
      ],
      "source": [
        "def jumlahkan(a:int, b:int): # parameter dapat berupa integer\n",
        "    return a+b\n",
        "\n",
        "hasil = jumlahkan(10, 8)\n",
        "print(hasil)"
      ]
    },
    {
      "cell_type": "code",
      "source": [
        "# parameter hint dan nilai default\n",
        "def jumlahkan(a:int=2, b:int=2): # parameter dapat berupa integer dengan nilai default\n",
        "    return a+b                   # masing masing 2\n",
        " \n",
        "hasil = jumlahkan()\n",
        "print(hasil)"
      ],
      "metadata": {
        "colab": {
          "base_uri": "https://localhost:8080/"
        },
        "id": "oqcYOz1zksKK",
        "outputId": "ec9b4e64-c15e-4f33-f0f3-886f92fa1e10"
      },
      "execution_count": null,
      "outputs": [
        {
          "output_type": "stream",
          "name": "stdout",
          "text": [
            "4\n"
          ]
        }
      ]
    },
    {
      "cell_type": "code",
      "execution_count": null,
      "metadata": {
        "id": "eyvmxcwEMZq3",
        "outputId": "da4b310f-9212-4695-8f3d-7a650149dd0b",
        "colab": {
          "base_uri": "https://localhost:8080/"
        }
      },
      "outputs": [
        {
          "output_type": "stream",
          "name": "stdout",
          "text": [
            "18.7\n"
          ]
        }
      ],
      "source": [
        "# multiple hint (python versi 3.10 keatas)\n",
        "def jumlahkan(a:int|float, b:int|float) -> None: # parameter dapat berupa integer atau float\n",
        "    return a+b\n",
        "\n",
        "hasil = jumlahkan(10.5, 8.2)\n",
        "print(hasil)"
      ]
    },
    {
      "cell_type": "markdown",
      "source": [
        "**Return hint ' -> '**\n",
        "\n",
        "**Return hint** adalah petunjuk yang diberikann pada fungsi untuk menginformasikan nilai yang akan dikembalikan (return) oleh fungsi"
      ],
      "metadata": {
        "id": "rbju0l1UkzPB"
      }
    },
    {
      "cell_type": "code",
      "source": [
        "def jumlahkan(a:int, b:int) -> int: # nilai return berupa integer\n",
        "    return a+b\n",
        "\n",
        "hasil = jumlahkan(10, 8)\n",
        "print(hasil, type(hasil))"
      ],
      "metadata": {
        "colab": {
          "base_uri": "https://localhost:8080/"
        },
        "id": "mq6K8hdGk0Z3",
        "outputId": "839c34fb-db84-4a75-b10b-dbcb8d27d310"
      },
      "execution_count": null,
      "outputs": [
        {
          "output_type": "stream",
          "name": "stdout",
          "text": [
            "18 <class 'int'>\n"
          ]
        }
      ]
    },
    {
      "cell_type": "code",
      "source": [
        "def bagikan(a:float, b:float) -> float: # nilai return berupa float\n",
        "    return a/b\n",
        "\n",
        "hasil = bagikan(10.0, 8)\n",
        "print(hasil , type(hasil))"
      ],
      "metadata": {
        "colab": {
          "base_uri": "https://localhost:8080/"
        },
        "id": "1vJmPMAJlEG3",
        "outputId": "80cbd2c7-d110-436e-be66-4c882e1ee0d1"
      },
      "execution_count": null,
      "outputs": [
        {
          "output_type": "stream",
          "name": "stdout",
          "text": [
            "1.25 <class 'float'>\n"
          ]
        }
      ]
    },
    {
      "cell_type": "code",
      "source": [
        "def sayHello() -> None: # fungsi tidak mengembalikan nilai\n",
        "    print(\"Hello\")\n",
        "\n",
        "a = sayHello()\n",
        "\n",
        "print(type(a))"
      ],
      "metadata": {
        "colab": {
          "base_uri": "https://localhost:8080/"
        },
        "id": "-hRW9CWilOpd",
        "outputId": "bbce95aa-adc9-4b27-951e-628e7c55dffa"
      },
      "execution_count": null,
      "outputs": [
        {
          "output_type": "stream",
          "name": "stdout",
          "text": [
            "Hello\n",
            "<class 'NoneType'>\n"
          ]
        }
      ]
    },
    {
      "cell_type": "markdown",
      "metadata": {
        "id": "ch5Qv1n9MZq4"
      },
      "source": [
        "**Main Function** <font color=\"red\" size=4> penting! </font>\n",
        "\n",
        "Untuk menghindari bug pada saat mengimport module yang berisi kode program, biasakan menggunakan main function sehingga program hanya dapat berjalan jika di eksekusi dari filenya"
      ]
    },
    {
      "cell_type": "code",
      "execution_count": null,
      "metadata": {
        "id": "aKtYa_A_MZq4",
        "outputId": "8f38a116-1552-4b41-d712-8bd812ea3e73"
      },
      "outputs": [
        {
          "name": "stdout",
          "output_type": "stream",
          "text": [
            "hello world\n"
          ]
        }
      ],
      "source": [
        "# jangan buat program langsung disini\n",
        "\n",
        "# pake ini aja (mirip C++)\n",
        "def main():\n",
        "    # buat programnya disini\n",
        "    print(\"hello world\")\n",
        "\n",
        "# method main tidak terpanggil otomatis, buat sebuah kondisi untuk mengecek apakah program berada pada file utama (file dimana program dijalankan) \n",
        "if __name__ == \"__main__\":\n",
        "    main()\n",
        "    "
      ]
    },
    {
      "cell_type": "markdown",
      "source": [
        "# **Referensi Belajar Python:**\n",
        "\n",
        "YOUTUBE :\n",
        "* IDN https://www.youtube.com/playlist?list=PLZS-MHyEIRo59lUBwU-XHH7Ymmb04ffOY\n",
        "* IDN https://www.youtube.com/playlist?list=PL-CtdCApEFH_HY6bL3JER8WJOxz1nb3_H\n",
        "* ENG https://www.youtube.com/watch?v=_uQrJ0TkZlc&t=1028s\n",
        "* ENG https://www.youtube.com/watch?v=rfscVS0vtbw&t=938s\n",
        "\n",
        "WEBSITE : \n",
        "* IDN https://www.petanikode.com/tutorial/python/\n",
        "* ENG https://www.w3schools.com/python/\n",
        "* ENG https://www.programiz.com/python-programming"
      ],
      "metadata": {
        "id": "hJi9ATKH4mOU"
      }
    }
  ],
  "metadata": {
    "kernelspec": {
      "display_name": "Python 3.10.7 64-bit",
      "language": "python",
      "name": "python3"
    },
    "language_info": {
      "codemirror_mode": {
        "name": "ipython",
        "version": 3
      },
      "file_extension": ".py",
      "mimetype": "text/x-python",
      "name": "python",
      "nbconvert_exporter": "python",
      "pygments_lexer": "ipython3",
      "version": "3.10.7"
    },
    "orig_nbformat": 4,
    "vscode": {
      "interpreter": {
        "hash": "df2baed352af3cf6afe9a5938213a7c97b2278df96dc0c4ddb8bf14e2412b1fd"
      }
    },
    "colab": {
      "provenance": [],
      "include_colab_link": true
    }
  },
  "nbformat": 4,
  "nbformat_minor": 0
}