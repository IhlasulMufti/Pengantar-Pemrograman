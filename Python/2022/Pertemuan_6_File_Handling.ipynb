{
  "nbformat": 4,
  "nbformat_minor": 0,
  "metadata": {
    "colab": {
      "provenance": [],
      "authorship_tag": "ABX9TyNZQmnPWl0C5g285C02hthN",
      "include_colab_link": true
    },
    "kernelspec": {
      "name": "python3",
      "display_name": "Python 3"
    },
    "language_info": {
      "name": "python"
    }
  },
  "cells": [
    {
      "cell_type": "markdown",
      "metadata": {
        "id": "view-in-github",
        "colab_type": "text"
      },
      "source": [
        "<a href=\"https://colab.research.google.com/github/IhlasulMufti/Pengantar-Pemrograman/blob/main/Python/2022/Pertemuan_6_File_Handling.ipynb\" target=\"_parent\"><img src=\"https://colab.research.google.com/assets/colab-badge.svg\" alt=\"Open In Colab\"/></a>"
      ]
    },
    {
      "cell_type": "markdown",
      "source": [
        "## **Cara Penggunaan Google Colab !!**\n",
        "\n",
        "**klik tanda 🔽 untuk expand program**\n",
        "> contoh: 🔽 A. Identifier\n",
        "\n",
        "**cara menjalankan program:**\n",
        "* klik  icon ▶️ di bagian sudut kiri atas\n",
        "* Ketik Cmd/Ctrl+Enter untuk menjalankan sel di tempatnya\n",
        "* Ketik Shift+Enter untuk menjalankan sel dan memindahkan fokus ke sel berikutnya (menambahkan satu jika tidak ada);\n",
        "* Ketik Alt+Enter untuk menjalankan sel dan menyisipkan sel kode baru tepat di bawahnya. \n",
        "* note : biasanya running pertama kali agak lama\n",
        "\n",
        "\n",
        "\n",
        "<font color=\"red\" size=4>\n",
        "Silahkan pelajari programnya, BOLEH diubah-ubah isinya. Tidak akan berpengaruh ke file asli, reload page untuk mengembalikan file asli"
      ],
      "metadata": {
        "id": "hfaU1q7W4icX"
      }
    },
    {
      "cell_type": "markdown",
      "source": [
        "# FILE HANDLING"
      ],
      "metadata": {
        "id": "UwvWkwVY6Oko"
      }
    },
    {
      "cell_type": "markdown",
      "source": [
        "Files merupakan lokasi yang diberi nama pada disk untuk menyimpan informasi terkait. File digunakan untuk menyimpan data secara permanen pada non-volatile memory seperti hard disk. Saat kita ingin membaca atau menulis pada sebuah file, maka kita perlu membukanya terlebih dahulu. Setelah selesai, kita perlu menutupnya agar sumber daya yang terhubung ke file tersebut dibebaskan.\n",
        "\n",
        "Maka dari itu sebuah bahasa pemrograman harus memiliki cara untuk melakukan handling (penanganan) terhadap sebuah file. Bahasa Python sendiri dapat melakukan CRUD (Create, Read, Update, Delete) pada sebuah file. Adapun tahapan dalam file handling yaitu:\n",
        "1. Membuka File\n",
        "2. Membaca atau Menulis File\n",
        "3. Menutup File"
      ],
      "metadata": {
        "id": "xaH0Qmi36SAz"
      }
    },
    {
      "cell_type": "markdown",
      "source": [
        "## Membuka dan Membaca File\n",
        "\n",
        "Untuk melakukan File Handling, python sudah menyediakan sebuah fungsi yaitu open() untuk membuka sebuah file. fungsi open() memiliki 2 parameter yaitu nama_file dan mode.\n",
        "\n",
        "        open(\"nama_File\", \"mode\")"
      ],
      "metadata": {
        "id": "HMyqj-yy6U-6"
      }
    },
    {
      "cell_type": "code",
      "execution_count": 1,
      "metadata": {
        "colab": {
          "base_uri": "https://localhost:8080/"
        },
        "id": "cIx2Z0eb5Rfm",
        "outputId": "2c7d4ecc-7205-4edb-e7cb-7b4460f8faa7"
      },
      "outputs": [
        {
          "output_type": "stream",
          "name": "stdout",
          "text": [
            "Halo Ini Baris Pertama\n",
            "Halo Ini Baris Kedua\n",
            "Halo Ini Baris Ketiga\n"
          ]
        }
      ],
      "source": [
        "file = open(\"Pertemuan 6.txt\",\"r\")\n",
        "print(file.read())"
      ]
    },
    {
      "cell_type": "code",
      "source": [
        "# Jika File Terdapat pada directory tertentu\n",
        "file = open(\"/content/sample_data/Pertemuan Praktikum.txt\",\"r\")\n",
        "print(file.read())"
      ],
      "metadata": {
        "colab": {
          "base_uri": "https://localhost:8080/"
        },
        "id": "jtGyZg9E7RHH",
        "outputId": "74d8b26d-1c38-4f76-e082-0d2044c34e90"
      },
      "execution_count": 2,
      "outputs": [
        {
          "output_type": "stream",
          "name": "stdout",
          "text": [
            "Halo Directory Sample_data\n"
          ]
        }
      ]
    },
    {
      "cell_type": "code",
      "source": [
        "# Melihat isi file dengan format perbaris (.readline())\n",
        "\n",
        "file = open(\"Pertemuan 6.txt\",\"r\")\n",
        "print(file.readline())\n",
        "print(file.readline())\n",
        "print(file.readline())"
      ],
      "metadata": {
        "colab": {
          "base_uri": "https://localhost:8080/"
        },
        "id": "0oSeDUOb7uJQ",
        "outputId": "7131bf92-ef27-48d8-ed88-977921d6166b"
      },
      "execution_count": 3,
      "outputs": [
        {
          "output_type": "stream",
          "name": "stdout",
          "text": [
            "Halo Ini Baris Pertama\n",
            "\n",
            "Halo Ini Baris Kedua\n",
            "\n",
            "Halo Ini Baris Ketiga\n"
          ]
        }
      ]
    },
    {
      "cell_type": "code",
      "source": [
        "# Melihat isi file dengan format perbaris (menggunakan for)\n",
        "\n",
        "file = open(\"Pertemuan 6.txt\",\"r\")\n",
        "for x in file:\n",
        "    print(x)"
      ],
      "metadata": {
        "colab": {
          "base_uri": "https://localhost:8080/"
        },
        "id": "JoDc1Mtc79Fq",
        "outputId": "44e3ff2d-cc3e-4409-cd64-065ec50f8fc3"
      },
      "execution_count": 4,
      "outputs": [
        {
          "output_type": "stream",
          "name": "stdout",
          "text": [
            "Halo Ini Baris Pertama\n",
            "\n",
            "Halo Ini Baris Kedua\n",
            "\n",
            "Halo Ini Baris Ketiga\n"
          ]
        }
      ]
    },
    {
      "cell_type": "markdown",
      "source": [
        "## Menutup File"
      ],
      "metadata": {
        "id": "bgsB6YFw6kdT"
      }
    },
    {
      "cell_type": "code",
      "source": [
        "# Menggunakan perintah .close()\n",
        "\n",
        "file = open(\"Pertemuan 6.txt\",\"r\")\n",
        "print(file.read())\n",
        "file.close()"
      ],
      "metadata": {
        "colab": {
          "base_uri": "https://localhost:8080/"
        },
        "id": "hq7vbR7q8hfY",
        "outputId": "8578c563-c3b4-459b-9083-39f0438a9a57"
      },
      "execution_count": 5,
      "outputs": [
        {
          "output_type": "stream",
          "name": "stdout",
          "text": [
            "Halo Ini Baris Pertama\n",
            "Halo Ini Baris Kedua\n",
            "Halo Ini Baris Ketiga\n"
          ]
        }
      ]
    },
    {
      "cell_type": "code",
      "source": [
        "# Menggunakan with open untuk membuka\n",
        "# Sekaligus menutup file ketika program selesai\n",
        "\n",
        "with open(\"Pertemuan 6.txt\", \"r\") as file:\n",
        "    print(file.read())"
      ],
      "metadata": {
        "colab": {
          "base_uri": "https://localhost:8080/"
        },
        "id": "6Au7ZdOk8rrd",
        "outputId": "429ac04d-22dc-4186-f83a-a6249a747b35"
      },
      "execution_count": 6,
      "outputs": [
        {
          "output_type": "stream",
          "name": "stdout",
          "text": [
            "Halo Ini Baris Pertama\n",
            "Halo Ini Baris Kedua\n",
            "Halo Ini Baris Ketiga\n"
          ]
        }
      ]
    },
    {
      "cell_type": "markdown",
      "source": [
        "## Menulis / Membuat File"
      ],
      "metadata": {
        "id": "fNi_yI3N6jEl"
      }
    },
    {
      "cell_type": "code",
      "source": [
        "# Menggunakan mode 'x' (create) untuk membuat file jika belum ada\n",
        "# dan mengembalikan nilai error jika file sudah tersedia\n",
        "\n",
        "with open(\"File Baru.txt\", \"x\") as file_write:\n",
        "    file_write.write(\"Halo Ini isi teks mode x\")\n",
        "\n",
        "with open(\"File Baru.txt\", \"r\") as file_write:\n",
        "    print(file_write.read())"
      ],
      "metadata": {
        "colab": {
          "base_uri": "https://localhost:8080/"
        },
        "id": "CreNXpmw-cKl",
        "outputId": "76460c10-9d69-491a-9cae-5f171df934e6"
      },
      "execution_count": 7,
      "outputs": [
        {
          "output_type": "stream",
          "name": "stdout",
          "text": [
            "Halo Ini isi teks mode x\n"
          ]
        }
      ]
    },
    {
      "cell_type": "code",
      "source": [
        "with open(\"File Baru.txt\", \"x\") as file_write:\n",
        "    file_write.write(\"Halo Ini isi teks baru\")"
      ],
      "metadata": {
        "colab": {
          "base_uri": "https://localhost:8080/",
          "height": 182
        },
        "id": "_Bhu4f9W-lu3",
        "outputId": "98fa0562-ec6b-4919-cffb-4039a108c362"
      },
      "execution_count": 8,
      "outputs": [
        {
          "output_type": "error",
          "ename": "FileExistsError",
          "evalue": "ignored",
          "traceback": [
            "\u001b[0;31m---------------------------------------------------------------------------\u001b[0m",
            "\u001b[0;31mFileExistsError\u001b[0m                           Traceback (most recent call last)",
            "\u001b[0;32m<ipython-input-8-2b41af8fffaa>\u001b[0m in \u001b[0;36m<module>\u001b[0;34m\u001b[0m\n\u001b[0;32m----> 1\u001b[0;31m \u001b[0;32mwith\u001b[0m \u001b[0mopen\u001b[0m\u001b[0;34m(\u001b[0m\u001b[0;34m\"File Baru.txt\"\u001b[0m\u001b[0;34m,\u001b[0m \u001b[0;34m\"x\"\u001b[0m\u001b[0;34m)\u001b[0m \u001b[0;32mas\u001b[0m \u001b[0mfile_write\u001b[0m\u001b[0;34m:\u001b[0m\u001b[0;34m\u001b[0m\u001b[0;34m\u001b[0m\u001b[0m\n\u001b[0m\u001b[1;32m      2\u001b[0m     \u001b[0mfile_write\u001b[0m\u001b[0;34m.\u001b[0m\u001b[0mwrite\u001b[0m\u001b[0;34m(\u001b[0m\u001b[0;34m\"Halo Ini isi teks baru\"\u001b[0m\u001b[0;34m)\u001b[0m\u001b[0;34m\u001b[0m\u001b[0;34m\u001b[0m\u001b[0m\n",
            "\u001b[0;31mFileExistsError\u001b[0m: [Errno 17] File exists: 'File Baru.txt'"
          ]
        }
      ]
    },
    {
      "cell_type": "code",
      "source": [
        "# Menggunakan mode 'w' (Write) untuk membuat file jika belum ada\n",
        "# atau menimpa isi file jika sudah tersedia\n",
        "\n",
        "with open(\"File Baru.txt\", \"w\") as file_write:\n",
        "    file_write.write(\"Halo Ini isi teks mode w\")\n",
        "  \n",
        "with open(\"File Baru.txt\", \"r\") as file_write:\n",
        "    print(file_write.read())"
      ],
      "metadata": {
        "colab": {
          "base_uri": "https://localhost:8080/"
        },
        "id": "bocfpede89T5",
        "outputId": "88d58344-4401-42d3-840e-15bb9e0e1bf8"
      },
      "execution_count": 9,
      "outputs": [
        {
          "output_type": "stream",
          "name": "stdout",
          "text": [
            "Halo Ini isi teks mode w\n"
          ]
        }
      ]
    },
    {
      "cell_type": "code",
      "source": [
        "# Menggunakan mode 'a' (append) untuk membuat file jika belum ada\n",
        "# atau menambahkan isi pada kursor terakhir file jika sudah tersedia\n",
        "\n",
        "with open(\"File Baru.txt\", \"a\") as file_write:\n",
        "    file_write.write(\"Ini tambahan teks baru mode a\")\n",
        "    file_write.write(\"Ini tambahan teks baru mode a 2\")\n",
        "\n",
        "with open(\"File Baru.txt\", \"r\") as file_write:\n",
        "    print(file_write.read())"
      ],
      "metadata": {
        "colab": {
          "base_uri": "https://localhost:8080/"
        },
        "id": "Rk_s7vIE9UD6",
        "outputId": "5cbddf87-d2cd-486c-c98f-d4f0a2504355"
      },
      "execution_count": 10,
      "outputs": [
        {
          "output_type": "stream",
          "name": "stdout",
          "text": [
            "Halo Ini isi teks mode wIni tambahan teks baru mode aIni tambahan teks baru mode a 2\n"
          ]
        }
      ]
    },
    {
      "cell_type": "code",
      "source": [
        "# Tambahkan '\\n' untuk menambahkan enter\n",
        "\n",
        "with open(\"File Baru.txt\", \"a\") as file_write:\n",
        "    file_write.write(\"\\nIni tambahan teks baru mode a 3\")\n",
        "    file_write.write(\"\\nIni tambahan teks baru mode a 4\")\n",
        "\n",
        "with open(\"File Baru.txt\", \"r\") as file_write:\n",
        "    print(file_write.read())"
      ],
      "metadata": {
        "colab": {
          "base_uri": "https://localhost:8080/"
        },
        "id": "RT-Vk-J4_oO8",
        "outputId": "afe7b826-01ed-45b6-ca0a-e8363ff6b1bd"
      },
      "execution_count": 11,
      "outputs": [
        {
          "output_type": "stream",
          "name": "stdout",
          "text": [
            "Halo Ini isi teks mode wIni tambahan teks baru mode aIni tambahan teks baru mode a 2\n",
            "Ini tambahan teks baru mode a 3\n",
            "Ini tambahan teks baru mode a 4\n"
          ]
        }
      ]
    },
    {
      "cell_type": "code",
      "source": [
        "# Melakukan format string sebagai isi untuk menulis pada sebuah file\n",
        "\n",
        "nama = 5\n",
        "nama2 = \"Saya Ichsan kadir\"\n",
        "teks = \"\\n{:04d}\".format(nama)\n",
        "teks2 = \"\\n{:>20}\".format(nama2)\n",
        "with open(\"Pertemuan 6.txt\", \"a\") as file:\n",
        "    file.write(teks)\n",
        "    file.write(teks2)"
      ],
      "metadata": {
        "id": "pjQzgMeJAPC1"
      },
      "execution_count": 12,
      "outputs": []
    },
    {
      "cell_type": "code",
      "source": [
        "with open(\"Pertemuan 6.txt\", \"r\") as file:\n",
        "    print(file.read())"
      ],
      "metadata": {
        "colab": {
          "base_uri": "https://localhost:8080/"
        },
        "id": "OUkxfnbaA1V_",
        "outputId": "2287fea8-750a-445b-8d6c-23209c24b635"
      },
      "execution_count": 13,
      "outputs": [
        {
          "output_type": "stream",
          "name": "stdout",
          "text": [
            "Halo Ini Baris Pertama\n",
            "Halo Ini Baris Kedua\n",
            "Halo Ini Baris Ketiga\n",
            "0005\n",
            "   Saya Ichsan kadir\n"
          ]
        }
      ]
    },
    {
      "cell_type": "markdown",
      "source": [
        "## Delete File"
      ],
      "metadata": {
        "id": "stlaA57x6nDY"
      }
    },
    {
      "cell_type": "code",
      "source": [
        "import os\n",
        "if os.path.exists(\"File Baru.txt\"):\n",
        "  os.remove(\"File Baru.txt\")\n",
        "  print(\"Menghapus File Sukses\")\n",
        "else:\n",
        "  print(\"The file does not exist\")"
      ],
      "metadata": {
        "colab": {
          "base_uri": "https://localhost:8080/"
        },
        "id": "wjqUlfpy_54U",
        "outputId": "290f95af-3172-4c60-ba2e-74a13813cce2"
      },
      "execution_count": 14,
      "outputs": [
        {
          "output_type": "stream",
          "name": "stdout",
          "text": [
            "Menghapus File Sukses\n"
          ]
        }
      ]
    },
    {
      "cell_type": "code",
      "source": [
        "import os\n",
        "if os.path.exists(\"File Baru.txt\"):\n",
        "  os.remove(\"File Baru.txt\")\n",
        "  print(\"Menghapus File Sukses\")\n",
        "else:\n",
        "  print(\"The file does not exist\")"
      ],
      "metadata": {
        "colab": {
          "base_uri": "https://localhost:8080/"
        },
        "id": "Dr9A3wAJAFUZ",
        "outputId": "065aa40e-8b4f-4658-fdac-bdf6d644d70f"
      },
      "execution_count": 15,
      "outputs": [
        {
          "output_type": "stream",
          "name": "stdout",
          "text": [
            "The file does not exist\n"
          ]
        }
      ]
    }
  ]
}