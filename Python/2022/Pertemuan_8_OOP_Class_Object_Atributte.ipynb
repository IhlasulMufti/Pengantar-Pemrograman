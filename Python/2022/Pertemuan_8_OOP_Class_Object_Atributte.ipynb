{
  "cells": [
    {
      "cell_type": "markdown",
      "metadata": {
        "id": "view-in-github",
        "colab_type": "text"
      },
      "source": [
        "<a href=\"https://colab.research.google.com/github/IhlasulMufti/Pengantar-Pemrograman/blob/main/Python/2022/Pertemuan_8_OOP_Class_Object_Atributte.ipynb\" target=\"_parent\"><img src=\"https://colab.research.google.com/assets/colab-badge.svg\" alt=\"Open In Colab\"/></a>"
      ]
    },
    {
      "cell_type": "markdown",
      "source": [
        "## **Cara Penggunaan Google Colab !!**\n",
        "\n",
        "**klik tanda 🔽 untuk expand program**\n",
        "> contoh: 🔽 A. Identifier\n",
        "\n",
        "**cara menjalankan program:**\n",
        "* klik  icon ▶️ di bagian sudut kiri atas\n",
        "* Ketik Cmd/Ctrl+Enter untuk menjalankan sel di tempatnya\n",
        "* Ketik Shift+Enter untuk menjalankan sel dan memindahkan fokus ke sel berikutnya (menambahkan satu jika tidak ada);\n",
        "* Ketik Alt+Enter untuk menjalankan sel dan menyisipkan sel kode baru tepat di bawahnya. \n",
        "* note : biasanya running pertama kali agak lama\n",
        "\n",
        "\n",
        "\n",
        "<font color=\"red\" size=4>\n",
        "Silahkan pelajari programnya, BOLEH diubah-ubah isinya. Tidak akan berpengaruh ke file asli, reload page untuk mengembalikan file asli"
      ],
      "metadata": {
        "id": "QAAKH2w0sKKw"
      }
    },
    {
      "cell_type": "markdown",
      "metadata": {
        "id": "OncRkNDPr7x1"
      },
      "source": [
        "## Class dan Object"
      ]
    },
    {
      "cell_type": "markdown",
      "metadata": {
        "id": "A9fx95pLr7yD"
      },
      "source": [
        "### Class\n",
        "\n",
        "Class adalah blueprint untuk membuat objek. Kita dapat menganggap kelas sebagai\n",
        "sketsa burung beo dengan label. Ini berisi semua detail tentang nama, warna, ukuran,\n",
        "dll..\n"
      ]
    },
    {
      "cell_type": "code",
      "source": [
        "class Burung:\n",
        "  pass\n"
      ],
      "metadata": {
        "id": "WNqq8RJjl6xq"
      },
      "execution_count": 1,
      "outputs": []
    },
    {
      "cell_type": "markdown",
      "metadata": {
        "id": "qMFH1Bggr7yG"
      },
      "source": [
        "### Object\n",
        "\n",
        "Kata kunci class untuk mendefinisikan kelas burung merupakan sebuah kelas\n",
        "kosong. Dari sebuah kelas, kemudian dapat dibuat instance. Instance adalah objek\n",
        "tertentu yang dibuat dari kelas tertentu. Instance akan memiliki setiap atribut dan perilaku\n",
        "dari class asalnya. Namun, atribut dari masing masing objek dari kelas yang sama bisa\n",
        "saja berbeda nilai atau karakteristiknya"
      ]
    },
    {
      "cell_type": "code",
      "source": [
        "tobi = Burung()\n",
        "tweety = Burung()"
      ],
      "metadata": {
        "id": "POGKVDx8mC1J"
      },
      "execution_count": 2,
      "outputs": []
    },
    {
      "cell_type": "markdown",
      "metadata": {
        "id": "zciBCQbDr7yI"
      },
      "source": [
        "## Constructor\n",
        "\n",
        "Konstruktor adalah fungsi yang dipanggil tepat setelah suatu objek\n",
        "dibuat. Fungsi ini dibuat di dalam blok utama kelas. Pada umumnya,\n",
        "constructor dibuat untuk melakukan inisialisasi nilai atribut dari suatu entitas\n",
        "objek."
      ]
    },
    {
      "cell_type": "code",
      "source": [
        "# class\n",
        "class Burung:\n",
        "  def __init__(self):\n",
        "    print(\"objek berhasil dibuat!\")\n",
        "# objek\n",
        "tobi = Burung()"
      ],
      "metadata": {
        "colab": {
          "base_uri": "https://localhost:8080/"
        },
        "id": "56Gcs6hImL-Y",
        "outputId": "d9ee0915-bdb0-422e-b8af-e1ece4166568"
      },
      "execution_count": 3,
      "outputs": [
        {
          "output_type": "stream",
          "name": "stdout",
          "text": [
            "objek berhasil dibuat!\n"
          ]
        }
      ]
    },
    {
      "cell_type": "markdown",
      "metadata": {
        "id": "4j7wu0PNr7yI"
      },
      "source": [
        "## Atributte\n",
        "\n",
        "Atribut adalah variabel Python yang hanya dimiliki oleh satu objek.\n",
        "Atribut dapat diakses dalam lingkup objek dan harus di inisialisasi dalam\n",
        "fungsi konstruktor kelas menggunakan keyword self.[nama atribut].\n",
        "Atribut juga dapat ditambahkan langsung pada saat setelah objek dibuat\n",
        "dengan syntax [nama objek].[nama atribut]"
      ]
    },
    {
      "cell_type": "code",
      "source": [
        "# Contoh syntax untuk menambahkan atribut menggunakan konstruktor:\n",
        "\n",
        "# class\n",
        "class Burung:\n",
        "  def __init__(Self, jenis):\n",
        "    Self.jenis = jenis\n",
        "# objek\n",
        "kolibri = Burung(\"kolibri\")\n",
        "print(kolibri.jenis)\n"
      ],
      "metadata": {
        "colab": {
          "base_uri": "https://localhost:8080/"
        },
        "id": "KG6oxNuLmkY4",
        "outputId": "f9ec1899-ac68-4cef-95d8-b535dcf275f6"
      },
      "execution_count": 4,
      "outputs": [
        {
          "output_type": "stream",
          "name": "stdout",
          "text": [
            "kolibri\n"
          ]
        }
      ]
    },
    {
      "cell_type": "code",
      "source": [
        "# Contoh syntax untuk menambahkan atribut secara langsung:\n",
        "\n",
        "# class\n",
        "class Burung:\n",
        "  pass\n",
        "# objek\n",
        "kolibri = Burung()\n",
        "kolibri.jenis = \"kolibri\"\n",
        "print(kolibri.jenis)\n"
      ],
      "metadata": {
        "colab": {
          "base_uri": "https://localhost:8080/"
        },
        "id": "zWk8I_t6m4pX",
        "outputId": "6be84202-841d-4533-d187-95dae79d4448"
      },
      "execution_count": 5,
      "outputs": [
        {
          "output_type": "stream",
          "name": "stdout",
          "text": [
            "kolibri\n"
          ]
        }
      ]
    },
    {
      "cell_type": "markdown",
      "metadata": {
        "id": "-8vLJ4dPr7yJ"
      },
      "source": [
        "## Behaviour / Method\n",
        "\n",
        "Perilaku adalah tindakan yang dapat terjadi pada suatu objek. Perilaku\n",
        "yang dapat dilakukan pada kelas objek tertentu disebut method. Pada tingkat\n",
        "pemrograman, method seperti fungsi dalam pemrograman terstruktur, tetapi\n",
        "mereka secara ajaib memiliki akses ke semua data yang terkait dengan\n",
        "objeknya. Seperti fungsi, metode juga dapat menerima parameter dan\n",
        "mengembalikan nilai.\n"
      ]
    },
    {
      "cell_type": "code",
      "source": [
        "# class\n",
        "class Burung:\n",
        "  def __init__(self, jenis):\n",
        "    self.jenis = jenis\n",
        "    self.kesehatan = 5\n",
        "  def tidur(self, menit):\n",
        "      self.kesehatan += menit/4\n",
        "      print(\"tertidur selama \" + str(menit) + \"menit\")\n",
        "# objek\n",
        "kolibri = Burung(\"kolibri\")\n",
        "kolibri.tidur(30)\n",
        "print(\"kesehatan :\" + str(kolibri.kesehatan))\n"
      ],
      "metadata": {
        "colab": {
          "base_uri": "https://localhost:8080/"
        },
        "id": "CAu8Oh2LnPE_",
        "outputId": "53b0f144-0dce-4a1d-ab6c-d9dcc87c7435"
      },
      "execution_count": 6,
      "outputs": [
        {
          "output_type": "stream",
          "name": "stdout",
          "text": [
            "tertidur selama 30menit\n",
            "kesehatan :12.5\n"
          ]
        }
      ]
    },
    {
      "cell_type": "markdown",
      "source": [
        "# **Referensi Belajar Python:**\n",
        "\n",
        "YOUTUBE :\n",
        "* IDN https://www.youtube.com/playlist?list=PLZS-MHyEIRo59lUBwU-XHH7Ymmb04ffOY\n",
        "* IDN https://www.youtube.com/playlist?list=PL-CtdCApEFH_HY6bL3JER8WJOxz1nb3_H\n",
        "* ENG https://www.youtube.com/watch?v=_uQrJ0TkZlc&t=1028s\n",
        "* ENG https://www.youtube.com/watch?v=rfscVS0vtbw&t=938s\n",
        "\n",
        "WEBSITE : \n",
        "* IDN https://www.petanikode.com/tutorial/python/\n",
        "* ENG https://www.w3schools.com/python/\n",
        "* ENG https://www.programiz.com/python-programming"
      ],
      "metadata": {
        "id": "H1WiN621sUbX"
      }
    }
  ],
  "metadata": {
    "language_info": {
      "name": "python"
    },
    "orig_nbformat": 4,
    "colab": {
      "provenance": [],
      "include_colab_link": true
    },
    "kernelspec": {
      "name": "python3",
      "display_name": "Python 3"
    },
    "gpuClass": "standard"
  },
  "nbformat": 4,
  "nbformat_minor": 0
}