{
  "cells": [
    {
      "cell_type": "markdown",
      "metadata": {
        "id": "view-in-github",
        "colab_type": "text"
      },
      "source": [
        "<a href=\"https://colab.research.google.com/github/IhlasulMufti/Pengantar-Pemrograman/blob/main/Python/2022/Pertemuan_7_Regex.ipynb\" target=\"_parent\"><img src=\"https://colab.research.google.com/assets/colab-badge.svg\" alt=\"Open In Colab\"/></a>"
      ]
    },
    {
      "cell_type": "markdown",
      "source": [
        "## **Cara Penggunaan Google Colab !!**\n",
        "\n",
        "**klik tanda 🔽 untuk expand program**\n",
        "> contoh: 🔽 A. Identifier\n",
        "\n",
        "**cara menjalankan program:**\n",
        "* klik  icon ▶️ di bagian sudut kiri atas\n",
        "* Ketik Cmd/Ctrl+Enter untuk menjalankan sel di tempatnya\n",
        "* Ketik Shift+Enter untuk menjalankan sel dan memindahkan fokus ke sel berikutnya (menambahkan satu jika tidak ada);\n",
        "* Ketik Alt+Enter untuk menjalankan sel dan menyisipkan sel kode baru tepat di bawahnya. \n",
        "* note : biasanya running pertama kali agak lama\n",
        "\n",
        "\n",
        "\n",
        "<font color=\"red\" size=4>\n",
        "Silahkan pelajari programnya, BOLEH diubah-ubah isinya. Tidak akan berpengaruh ke file asli, reload page untuk mengembalikan file asli"
      ],
      "metadata": {
        "id": "hfaU1q7W4icX"
      }
    },
    {
      "cell_type": "markdown",
      "metadata": {
        "id": "oyqqBd3Sn9H4"
      },
      "source": [
        "# Regular Expression (regex) module"
      ]
    },
    {
      "cell_type": "code",
      "execution_count": 1,
      "metadata": {
        "id": "8uskMitUn9H-"
      },
      "outputs": [],
      "source": [
        "import re"
      ]
    },
    {
      "cell_type": "code",
      "execution_count": 2,
      "metadata": {
        "colab": {
          "base_uri": "https://localhost:8080/"
        },
        "id": "8uV8WY9wn9IB",
        "outputId": "ffcbb625-6527-4ccd-a188-f2460445b239"
      },
      "outputs": [
        {
          "output_type": "stream",
          "name": "stdout",
          "text": [
            "\n",
            "string:  ['saya', 'suka-makan/bakso+dan', 'saya', 'suka', 'main', 'bola']\n",
            "\n",
            "regex:  ['saya', 'suka-makan/bakso+dan', 'saya', 'suka', 'main', 'bola']\n"
          ]
        }
      ],
      "source": [
        "import re\n",
        "\n",
        "kalimat = \"saya suka-makan/bakso+dan saya suka main bola\"\n",
        "pola_string = \" \"\n",
        "\n",
        "pola = re.compile(pola_string)\n",
        "\n",
        "print(\"\\nstring: \",kalimat.split(\" \"))\n",
        "print(\"\\nregex: \",pola.split(kalimat))\n",
        "\n",
        "\n",
        "# print(\"\\nstring: \",kalimat.split(\" \"))\n",
        "\n",
        "# print(\"\\nregex: \",pola.split(pola_string, kalimat))\n"
      ]
    },
    {
      "cell_type": "code",
      "execution_count": 3,
      "metadata": {
        "colab": {
          "base_uri": "https://localhost:8080/"
        },
        "id": "i1r5EKA7n9IE",
        "outputId": "1ab7b635-6ccd-4b96-8bf4-e91e8100a1aa"
      },
      "outputs": [
        {
          "output_type": "execute_result",
          "data": {
            "text/plain": [
              "re.Pattern"
            ]
          },
          "metadata": {},
          "execution_count": 3
        }
      ],
      "source": [
        "type(pola)"
      ]
    },
    {
      "cell_type": "code",
      "execution_count": 4,
      "metadata": {
        "colab": {
          "base_uri": "https://localhost:8080/"
        },
        "id": "dvo8M9cbn9IE",
        "outputId": "1d36c991-dcfd-49e7-bdb6-1ca35360bd19"
      },
      "outputs": [
        {
          "output_type": "stream",
          "name": "stdout",
          "text": [
            "\n",
            "regex:  saya suka-makan/coto+dan saya suka main bola\n"
          ]
        }
      ],
      "source": [
        "\n",
        "kalimat = \"saya suka-makan/bakso+dan saya suka main bola\"\n",
        "pola_string = \"bakso\"\n",
        "\n",
        "pola = re.compile(pola_string)\n",
        "\n",
        "print(\"\\nregex: \",pola.sub(\"coto\", kalimat))"
      ]
    },
    {
      "cell_type": "code",
      "execution_count": 5,
      "metadata": {
        "colab": {
          "base_uri": "https://localhost:8080/"
        },
        "id": "eBFSLn4mn9IF",
        "outputId": "e2c194f6-6196-4f32-c9b0-e09873d17544"
      },
      "outputs": [
        {
          "output_type": "stream",
          "name": "stdout",
          "text": [
            "['\\nano']\n",
            "\\nano\n"
          ]
        }
      ],
      "source": [
        "kalimat = \"C:\\\\windows\\software\\nano\"\n",
        "pola = r\"\\nano\"\n",
        "print(re.findall(pola,kalimat))\n",
        "\n",
        "print(pola)"
      ]
    },
    {
      "cell_type": "code",
      "execution_count": 6,
      "metadata": {
        "colab": {
          "base_uri": "https://localhost:8080/"
        },
        "id": "S3t1jv5wn9IG",
        "outputId": "39dc959a-fd20-4650-eace-6f0291f3c308"
      },
      "outputs": [
        {
          "output_type": "stream",
          "name": "stdout",
          "text": [
            "halo\\ndunia\n"
          ]
        }
      ],
      "source": [
        "kalimat = r\"halo\\ndunia\"\n",
        "print(kalimat)"
      ]
    },
    {
      "cell_type": "code",
      "execution_count": 7,
      "metadata": {
        "colab": {
          "base_uri": "https://localhost:8080/"
        },
        "id": "e7bSgvJ2n9IG",
        "outputId": "05bcdf75-06b4-4b00-eb33-c76d540a193c"
      },
      "outputs": [
        {
          "output_type": "stream",
          "name": "stdout",
          "text": [
            "['ha', 'ha', 'ha']\n"
          ]
        }
      ],
      "source": [
        "import re\n",
        "\n",
        "kalimat = \"haiaha halo dunia\"\n",
        "\n",
        "pola = r\"(ha)\"\n",
        "\n",
        "print(re.findall(pola, kalimat))"
      ]
    },
    {
      "cell_type": "markdown",
      "source": [
        "# **Referensi Belajar Python:**\n",
        "\n",
        "YOUTUBE :\n",
        "* IDN https://www.youtube.com/playlist?list=PLZS-MHyEIRo59lUBwU-XHH7Ymmb04ffOY\n",
        "* IDN https://www.youtube.com/playlist?list=PL-CtdCApEFH_HY6bL3JER8WJOxz1nb3_H\n",
        "* ENG https://www.youtube.com/watch?v=_uQrJ0TkZlc&t=1028s\n",
        "* ENG https://www.youtube.com/watch?v=rfscVS0vtbw&t=938s\n",
        "\n",
        "WEBSITE : \n",
        "* IDN https://www.petanikode.com/tutorial/python/\n",
        "* ENG https://www.w3schools.com/python/\n",
        "* ENG https://www.programiz.com/python-programming"
      ],
      "metadata": {
        "id": "H1WiN621sUbX"
      }
    }
  ],
  "metadata": {
    "kernelspec": {
      "display_name": "Python 3.10.7 64-bit",
      "language": "python",
      "name": "python3"
    },
    "language_info": {
      "codemirror_mode": {
        "name": "ipython",
        "version": 3
      },
      "file_extension": ".py",
      "mimetype": "text/x-python",
      "name": "python",
      "nbconvert_exporter": "python",
      "pygments_lexer": "ipython3",
      "version": "3.10.7"
    },
    "orig_nbformat": 4,
    "vscode": {
      "interpreter": {
        "hash": "df2baed352af3cf6afe9a5938213a7c97b2278df96dc0c4ddb8bf14e2412b1fd"
      }
    },
    "colab": {
      "provenance": [],
      "include_colab_link": true
    }
  },
  "nbformat": 4,
  "nbformat_minor": 0
}