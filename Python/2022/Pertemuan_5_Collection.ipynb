{
  "nbformat": 4,
  "nbformat_minor": 0,
  "metadata": {
    "colab": {
      "provenance": [],
      "authorship_tag": "ABX9TyMzd2YOgf4CXM5Q2bWmppPW",
      "include_colab_link": true
    },
    "kernelspec": {
      "name": "python3",
      "display_name": "Python 3"
    },
    "language_info": {
      "name": "python"
    }
  },
  "cells": [
    {
      "cell_type": "markdown",
      "metadata": {
        "id": "view-in-github",
        "colab_type": "text"
      },
      "source": [
        "<a href=\"https://colab.research.google.com/github/IhlasulMufti/Pengantar-Pemrograman/blob/main/Python/2022/Pertemuan_5_Collection.ipynb\" target=\"_parent\"><img src=\"https://colab.research.google.com/assets/colab-badge.svg\" alt=\"Open In Colab\"/></a>"
      ]
    },
    {
      "cell_type": "markdown",
      "source": [
        "## **Cara Penggunaan Google Colab !!**\n",
        "\n",
        "**klik tanda 🔽 untuk expand program**\n",
        "> contoh: 🔽 A. Identifier\n",
        "\n",
        "**cara menjalankan program:**\n",
        "* klik  icon ▶️ di bagian sudut kiri atas\n",
        "* Ketik Cmd/Ctrl+Enter untuk menjalankan sel di tempatnya\n",
        "* Ketik Shift+Enter untuk menjalankan sel dan memindahkan fokus ke sel berikutnya (menambahkan satu jika tidak ada);\n",
        "* Ketik Alt+Enter untuk menjalankan sel dan menyisipkan sel kode baru tepat di bawahnya. \n",
        "* note : biasanya running pertama kali agak lama\n",
        "\n",
        "\n",
        "\n",
        "<font color=\"red\" size=4>\n",
        "Silahkan pelajari programnya, BOLEH diubah-ubah isinya. Tidak akan berpengaruh ke file asli, reload page untuk mengembalikan file asli"
      ],
      "metadata": {
        "id": "hfaU1q7W4icX"
      }
    },
    {
      "cell_type": "markdown",
      "source": [
        "# Collection"
      ],
      "metadata": {
        "id": "biCZwEww8PFu"
      }
    },
    {
      "cell_type": "code",
      "execution_count": 1,
      "metadata": {
        "colab": {
          "base_uri": "https://localhost:8080/"
        },
        "id": "swSx5vDT8KCz",
        "outputId": "36b42607-edf1-4ab2-f2c6-8463599e6452"
      },
      "outputs": [
        {
          "output_type": "stream",
          "name": "stdout",
          "text": [
            "apel mangga jambu\n"
          ]
        }
      ],
      "source": [
        "#  Metode primitif\n",
        "buah1 = \"apel\"\n",
        "buah2 = \"mangga\"\n",
        "buah3 = \"jambu\" \n",
        "print(buah1, buah2, buah3)"
      ]
    },
    {
      "cell_type": "markdown",
      "source": [
        "## List"
      ],
      "metadata": {
        "id": "x0wAGIGm87up"
      }
    },
    {
      "cell_type": "code",
      "source": [
        "buah = [\"apel\", \"mangga\", \"jambu\"]\n",
        "        # 0         1        2\n",
        "print(\"sebelum : \", buah)"
      ],
      "metadata": {
        "colab": {
          "base_uri": "https://localhost:8080/"
        },
        "id": "Ee8sjbjW8-2W",
        "outputId": "b69f4b63-8a75-4343-b2c0-c9820e85e282"
      },
      "execution_count": 2,
      "outputs": [
        {
          "output_type": "stream",
          "name": "stdout",
          "text": [
            "sebelum :  ['apel', 'mangga', 'jambu']\n"
          ]
        }
      ]
    },
    {
      "cell_type": "markdown",
      "source": [
        "#### Indexing"
      ],
      "metadata": {
        "id": "Q5j3ATgNBXUM"
      }
    },
    {
      "cell_type": "code",
      "source": [
        "buah[1] = \"avocado\" \n",
        "print(\"sesudah : \", buah)"
      ],
      "metadata": {
        "colab": {
          "base_uri": "https://localhost:8080/"
        },
        "id": "BE5SodWS9LfA",
        "outputId": "e7191c68-affc-44b7-f4e9-bacd4bdff7c5"
      },
      "execution_count": 3,
      "outputs": [
        {
          "output_type": "stream",
          "name": "stdout",
          "text": [
            "sesudah :  ['apel', 'avocado', 'jambu']\n"
          ]
        }
      ]
    },
    {
      "cell_type": "code",
      "source": [
        "buah = \"avocado\"\n",
        "print(buah[0:3])"
      ],
      "metadata": {
        "colab": {
          "base_uri": "https://localhost:8080/"
        },
        "id": "N5YGqvoB9dhr",
        "outputId": "4f03ecbc-b1ea-4349-d668-ae31b6fa2885"
      },
      "execution_count": 4,
      "outputs": [
        {
          "output_type": "stream",
          "name": "stdout",
          "text": [
            "avo\n"
          ]
        }
      ]
    },
    {
      "cell_type": "code",
      "source": [
        "buah = [\"apel\", \"mangga\", \"jambu\"]\n",
        "# 3-1 = 2\n",
        "print(buah[1:-1])"
      ],
      "metadata": {
        "colab": {
          "base_uri": "https://localhost:8080/"
        },
        "id": "ZX59OOfx9mdm",
        "outputId": "8d659397-8437-4488-f272-2d1bf8feb93f"
      },
      "execution_count": 5,
      "outputs": [
        {
          "output_type": "stream",
          "name": "stdout",
          "text": [
            "['mangga']\n"
          ]
        }
      ]
    },
    {
      "cell_type": "markdown",
      "source": [
        "#### Menambah List"
      ],
      "metadata": {
        "id": "ni4TlRWwBjbj"
      }
    },
    {
      "cell_type": "code",
      "source": [
        "buah.append(\"jeruk\")\n",
        "\n",
        "buah2 = buah.copy()\n",
        "\n",
        "buah2.remove(\"jeruk\")\n",
        "print(\"buah : \", buah)\n",
        "print(\"buah2 : \", buah2)\n",
        "print(buah is buah2)"
      ],
      "metadata": {
        "colab": {
          "base_uri": "https://localhost:8080/"
        },
        "id": "QAWtZNlM9wBG",
        "outputId": "d84ab766-0913-4c40-b07c-465d61259f6c"
      },
      "execution_count": 6,
      "outputs": [
        {
          "output_type": "stream",
          "name": "stdout",
          "text": [
            "buah :  ['apel', 'mangga', 'jambu', 'jeruk']\n",
            "buah2 :  ['apel', 'mangga', 'jambu']\n",
            "False\n"
          ]
        }
      ]
    },
    {
      "cell_type": "markdown",
      "source": [
        "#### Mengakses dengan Perulangan"
      ],
      "metadata": {
        "id": "TAtixQm_BoRd"
      }
    },
    {
      "cell_type": "code",
      "source": [
        "m33 = [ [1,2,3],\n",
        "        [4,5,6],\n",
        "        [7,8,9] ]\n",
        "\n",
        "for b in m33 :\n",
        "    for k in b:\n",
        "        print(k, end=\", \")\n",
        "    print()"
      ],
      "metadata": {
        "colab": {
          "base_uri": "https://localhost:8080/"
        },
        "id": "S-ONSRPl90jq",
        "outputId": "7459ecbf-24cb-4b90-8f81-983f9dbbacf1"
      },
      "execution_count": 7,
      "outputs": [
        {
          "output_type": "stream",
          "name": "stdout",
          "text": [
            "1, 2, 3, \n",
            "4, 5, 6, \n",
            "7, 8, 9, \n"
          ]
        }
      ]
    },
    {
      "cell_type": "markdown",
      "source": [
        "#### Menggabungkan List"
      ],
      "metadata": {
        "id": "XohBYBj3Bsqk"
      }
    },
    {
      "cell_type": "code",
      "source": [
        "buah = [\"apel\", \"mangga\", \"jambu\"]\n",
        "buah2 = [\"pepaya\", \"kelapa\", \"anu\"]\n",
        "\n",
        "buah_banyak = buah + buah2\n",
        "print(buah_banyak)"
      ],
      "metadata": {
        "colab": {
          "base_uri": "https://localhost:8080/"
        },
        "id": "Kd0cOsPm-O6s",
        "outputId": "e71c9733-d124-4ad2-fd2e-35c7993e6176"
      },
      "execution_count": 8,
      "outputs": [
        {
          "output_type": "stream",
          "name": "stdout",
          "text": [
            "['apel', 'mangga', 'jambu', 'pepaya', 'kelapa', 'anu']\n"
          ]
        }
      ]
    },
    {
      "cell_type": "markdown",
      "source": [
        "## Tuple"
      ],
      "metadata": {
        "id": "u3FFRfBTBx4u"
      }
    },
    {
      "cell_type": "code",
      "source": [
        "buah = (\"pepaya\", \"kelapa\", \"anu\", \"anggur\")\n",
        "buah_lst  = list(buah)\n",
        "buah_lst[0] = \"anggur\"\n",
        "buah = tuple(buah_lst)\n",
        "print(type(buah))\n",
        "print(buah.count(\"anggur\"))"
      ],
      "metadata": {
        "colab": {
          "base_uri": "https://localhost:8080/"
        },
        "id": "Xzi6vt-5B29T",
        "outputId": "fbc5948a-6726-40bb-9485-6ab915e445fd"
      },
      "execution_count": 9,
      "outputs": [
        {
          "output_type": "stream",
          "name": "stdout",
          "text": [
            "<class 'tuple'>\n",
            "2\n"
          ]
        }
      ]
    },
    {
      "cell_type": "markdown",
      "source": [
        "## Set"
      ],
      "metadata": {
        "id": "DIT9UTqLCAez"
      }
    },
    {
      "cell_type": "code",
      "source": [
        "buah = {\"pepaya\", \"kelapa\", \"kepala\", \"anu\"}\n",
        "print(type(buah))\n",
        "\n",
        "for i in buah:\n",
        "    print(i)"
      ],
      "metadata": {
        "colab": {
          "base_uri": "https://localhost:8080/"
        },
        "id": "Hr1QrQUdCDXO",
        "outputId": "30b7c7ac-20d6-4617-e664-69d3bf40dd7a"
      },
      "execution_count": 10,
      "outputs": [
        {
          "output_type": "stream",
          "name": "stdout",
          "text": [
            "<class 'set'>\n",
            "anu\n",
            "kelapa\n",
            "kepala\n",
            "pepaya\n"
          ]
        }
      ]
    },
    {
      "cell_type": "markdown",
      "source": [
        "## Dict"
      ],
      "metadata": {
        "id": "HL904nmjCQpC"
      }
    },
    {
      "cell_type": "code",
      "source": [
        "person = {\n",
        "    \"nama\" : \"Ichsan\",\n",
        "    \"usia\" : 16,\n",
        "    \"alamat\" : \"jaksel\",\n",
        "    20 : \"mangga\"\n",
        "}\n",
        "for k,v in person.items():\n",
        "    print(k, \" : \",v)"
      ],
      "metadata": {
        "colab": {
          "base_uri": "https://localhost:8080/"
        },
        "id": "GaVRpuSeCTAD",
        "outputId": "6dfd1637-40fa-4c6d-c80c-6e757d4f0395"
      },
      "execution_count": 11,
      "outputs": [
        {
          "output_type": "stream",
          "name": "stdout",
          "text": [
            "nama  :  Ichsan\n",
            "usia  :  16\n",
            "alamat  :  jaksel\n",
            "20  :  mangga\n"
          ]
        }
      ]
    },
    {
      "cell_type": "markdown",
      "source": [
        "## List of For"
      ],
      "metadata": {
        "id": "k1du8YpYCaxG"
      }
    },
    {
      "cell_type": "code",
      "source": [
        "angka = [1,2,3,4]\n",
        "\n",
        "angka2 = [x*23 for x in angka]\n",
        "print(angka2)\n",
        "\n",
        "def f(*angka, **detail):\n",
        "    print(angka)\n",
        "    print(detail)\n",
        "\n",
        "num = f(1,2,3,4,5, nama=\"ichsan\", usia=\"15\", alamat=\"LA\")\n",
        "\n",
        "\n",
        "print(num) "
      ],
      "metadata": {
        "colab": {
          "base_uri": "https://localhost:8080/"
        },
        "id": "N8f3LiwsCbY_",
        "outputId": "89b50869-eba0-477a-e8df-7737820abcc5"
      },
      "execution_count": 12,
      "outputs": [
        {
          "output_type": "stream",
          "name": "stdout",
          "text": [
            "[23, 46, 69, 92]\n",
            "(1, 2, 3, 4, 5)\n",
            "{'nama': 'ichsan', 'usia': '15', 'alamat': 'LA'}\n",
            "None\n"
          ]
        }
      ]
    }
  ]
}