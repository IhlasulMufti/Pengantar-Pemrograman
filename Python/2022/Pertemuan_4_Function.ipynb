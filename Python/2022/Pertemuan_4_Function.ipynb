{
  "cells": [
    {
      "cell_type": "markdown",
      "metadata": {
        "id": "view-in-github",
        "colab_type": "text"
      },
      "source": [
        "<a href=\"https://colab.research.google.com/github/IhlasulMufti/Pengantar-Pemrograman/blob/main/Python/2022/Pertemuan_4_Function.ipynb\" target=\"_parent\"><img src=\"https://colab.research.google.com/assets/colab-badge.svg\" alt=\"Open In Colab\"/></a>"
      ]
    },
    {
      "cell_type": "markdown",
      "source": [
        "## **Cara Penggunaan Google Colab !!**\n",
        "\n",
        "**klik tanda 🔽 untuk expand program**\n",
        "> contoh: 🔽 A. Identifier\n",
        "\n",
        "**cara menjalankan program:**\n",
        "* klik  icon ▶️ di bagian sudut kiri atas\n",
        "* Ketik Cmd/Ctrl+Enter untuk menjalankan sel di tempatnya\n",
        "* Ketik Shift+Enter untuk menjalankan sel dan memindahkan fokus ke sel berikutnya (menambahkan satu jika tidak ada);\n",
        "* Ketik Alt+Enter untuk menjalankan sel dan menyisipkan sel kode baru tepat di bawahnya. \n",
        "* note : biasanya running pertama kali agak lama\n",
        "\n",
        "\n",
        "\n",
        "<font color=\"red\" size=4>\n",
        "Silahkan pelajari programnya, BOLEH diubah-ubah isinya. Tidak akan berpengaruh ke file asli, reload page untuk mengembalikan file asli"
      ],
      "metadata": {
        "id": "hfaU1q7W4icX"
      }
    },
    {
      "cell_type": "markdown",
      "metadata": {
        "id": "h_mgBQJ64hTb"
      },
      "source": [
        "# FUNCTION\n",
        "\n",
        "Dalam konteks pemrograman, function atau fungsi didefinisikan sebagai sekumpulan baris perintah atau kode yang dikelompokkan menjadi satu kesatuan dan dapat dipanggil atau digunakan berkali-kali. Sebuah function bisa menerima parameter, bisa mengembalikan suatu nilai, dan bisa dipanggil berkali-kali secara independen. Tujuan dari function adalah untuk memecah program yang besar dan kompleks menjadi bagian-bagian kecil dengan tugasnya masing-masing.\n",
        "\n",
        "Secara singkat saya misalkan Fungsi adalah template / cetak biru / desain untuk menjalankan sebuah program."
      ]
    },
    {
      "cell_type": "markdown",
      "metadata": {
        "id": "i75pVmbn4hTd"
      },
      "source": [
        "## A. Mengenal Fungsi\n",
        "\n",
        "Fungsi jika digambarkan strukturnya terdiri dari keyword \"def\", nama_fungsi, parameter (argument), dan statement.\n",
        "\n",
        "Parameter pada fungsi dapat berjumlah lebih dari 1 dengan memakai \",\" sebagai pemisah setiap paramater.\n",
        "Statement berisi kodingan yang akan menjadi template ketika dipanggil nanti."
      ]
    },
    {
      "cell_type": "code",
      "execution_count": 1,
      "metadata": {
        "id": "HNjm1VNK4hTd"
      },
      "outputs": [],
      "source": [
        "# def nama_function (paramater1 , parameter2, ... , paramaterN):\n",
        "#     statement"
      ]
    },
    {
      "cell_type": "code",
      "execution_count": 2,
      "metadata": {
        "id": "mGwaDs9m4hTe",
        "outputId": "30b3b8ea-e876-485e-a20c-5821da5e6d1c",
        "colab": {
          "base_uri": "https://localhost:8080/"
        }
      },
      "outputs": [
        {
          "output_type": "stream",
          "name": "stdout",
          "text": [
            "Hello World\n",
            "Hello World\n"
          ]
        }
      ],
      "source": [
        "def hello_world():\n",
        "    print(\"Hello World\")\n",
        "    \n",
        "hello_world()\n",
        "hello_world()"
      ]
    },
    {
      "cell_type": "markdown",
      "metadata": {
        "id": "UaCiyyDe4hTf"
      },
      "source": [
        "Parameter pada fungsi dapat bertipe data String, Number seperti int, atau Collection seperti list"
      ]
    },
    {
      "cell_type": "code",
      "execution_count": 3,
      "metadata": {
        "id": "OrfsoHDt4hTf",
        "outputId": "76b78d95-ebd3-4fc2-c682-153e16075728",
        "colab": {
          "base_uri": "https://localhost:8080/"
        }
      },
      "outputs": [
        {
          "output_type": "stream",
          "name": "stdout",
          "text": [
            "Hi Mufti\n",
            "Hi ichsan\n",
            "Hi Joko\n"
          ]
        }
      ],
      "source": [
        "'''Tipe Data String'''\n",
        "def say_hi (nama):\n",
        "    print (f\"Hi {nama}\")\n",
        "    \n",
        "say_hi (\"Mufti\")\n",
        "say_hi (\"ichsan\")\n",
        "say_hi (\"Joko\")"
      ]
    },
    {
      "cell_type": "code",
      "execution_count": 4,
      "metadata": {
        "id": "eV8CGYJT4hTf",
        "outputId": "7a427b96-b996-4eab-83ec-d6666ce550ff",
        "colab": {
          "base_uri": "https://localhost:8080/"
        }
      },
      "outputs": [
        {
          "output_type": "stream",
          "name": "stdout",
          "text": [
            "15\n"
          ]
        }
      ],
      "source": [
        "'''Tipe Data Number'''\n",
        "def tambah (number1, number2):\n",
        "    # hasil = number1 + number2\n",
        "    number1 = 10\n",
        "    print (number1 + number2)\n",
        "    \n",
        "angka1 = 2\n",
        "angka2 = 5\n",
        "tambah(angka1, angka2)"
      ]
    },
    {
      "cell_type": "code",
      "execution_count": 5,
      "metadata": {
        "id": "-z1ZJD3E4hTf",
        "outputId": "74180162-0820-4caa-b477-648110723520",
        "colab": {
          "base_uri": "https://localhost:8080/"
        }
      },
      "outputs": [
        {
          "output_type": "stream",
          "name": "stdout",
          "text": [
            "Mufti\n",
            "Ichsan\n",
            "Joko\n",
            "Kadek\n",
            "Ichsan\n",
            "Joko\n"
          ]
        }
      ],
      "source": [
        "'''Tipe Data Collection'''\n",
        "def list_peserta(nama):\n",
        "    for i in nama:\n",
        "        print(i)\n",
        "        \n",
        "peserta = ['Mufti', 'Ichsan', 'Joko']\n",
        "\n",
        "peserta2 = peserta.copy()   # Mengcopy List menggunakan .copy() agar Nilai list asal tidak berubah jika dilakukan perubahan\n",
        "peserta2[0] = \"Kadek\"\n",
        "\n",
        "list_peserta(peserta)\n",
        "list_peserta(peserta2)"
      ]
    },
    {
      "cell_type": "markdown",
      "metadata": {
        "id": "SFhZEPRk4hTg"
      },
      "source": [
        "## B. Mengembalikan Nilai Fungsi\n",
        "\n",
        "\n",
        "\n",
        "Salah satu kegunaan fungsi yaitu agar saat kita akan melakukan kodingan yang sama secara berulang-ulang, kita dapat membuat templatenya terlebih dahulu kemudian nantinya akan dipanggil saat akan digunakan. Sehingga suatu fungsi pasti akan mengembalikan sebuah hasil diakhirnya.\n",
        "\n",
        "Fungsi memiliki 2 jenis pengembalian nilai:\n",
        "\n",
        "#### 1. Fungsi yang mengembalikan nilai / output melalui keyword return"
      ]
    },
    {
      "cell_type": "code",
      "execution_count": 6,
      "metadata": {
        "id": "xNEt8jwq4hTg",
        "outputId": "2e3dc4d0-9cb0-4897-a165-fbc32f7e43b1",
        "colab": {
          "base_uri": "https://localhost:8080/"
        }
      },
      "outputs": [
        {
          "output_type": "stream",
          "name": "stdout",
          "text": [
            "7\n",
            "7\n"
          ]
        }
      ],
      "source": [
        "def tambah2 (number1, number2):\n",
        "    # hasil = number1 + number2\n",
        "    return (number1 + number2)\n",
        "    \n",
        "angka1 = 2\n",
        "angka2 = 5\n",
        "print(tambah2(angka1, angka2))\n",
        "\n",
        "hasil_jumlah = tambah2(angka1, angka2)\n",
        "print(hasil_jumlah)"
      ]
    },
    {
      "cell_type": "markdown",
      "metadata": {
        "id": "j7JwHRMn4hTg"
      },
      "source": [
        "#### 2. Fungsi yang tidak mengembalikan nilai / output melalui keyword print"
      ]
    },
    {
      "cell_type": "code",
      "execution_count": 7,
      "metadata": {
        "id": "niKGa5a14hTg",
        "colab": {
          "base_uri": "https://localhost:8080/"
        },
        "outputId": "b2b3d959-d946-434a-ef40-f106e4f79361"
      },
      "outputs": [
        {
          "output_type": "stream",
          "name": "stdout",
          "text": [
            "Hi Mufti\n",
            "Hi ichsan\n",
            "Hi Joko\n"
          ]
        }
      ],
      "source": [
        "def say_hi (nama):\n",
        "    print (f\"Hi {nama}\")\n",
        "    \n",
        "say_hi (\"Mufti\")\n",
        "say_hi (\"ichsan\")\n",
        "say_hi (\"Joko\")"
      ]
    },
    {
      "cell_type": "markdown",
      "metadata": {
        "id": "rwvUAP104hTg"
      },
      "source": [
        "## C.Aturan Fungsi\n",
        "\n",
        "Dalam fungsi terdapat beberapa aturan yang berlaku:\n",
        "#### 1. Jika sebuah fungsi tidak memiliki parameter maka fungsi tersebut biasanya tidak dapat menerima nilai baru. Nilai yang fungsi tersebut gunakan hanya nilai default yang telah diatur dalam statement fungsi tersebut."
      ]
    },
    {
      "cell_type": "code",
      "execution_count": 8,
      "metadata": {
        "id": "M_iiKQxz4hTh",
        "outputId": "9cbf8095-3e5d-493e-9007-7b5582ba3ffc",
        "colab": {
          "base_uri": "https://localhost:8080/"
        }
      },
      "outputs": [
        {
          "output_type": "stream",
          "name": "stdout",
          "text": [
            "12\n"
          ]
        }
      ],
      "source": [
        "def tambah():\n",
        "    a = 2\n",
        "    b = 10\n",
        "    print(a + b)\n",
        "\n",
        "tambah()"
      ]
    },
    {
      "cell_type": "markdown",
      "metadata": {
        "id": "r_b8hU9J4hTh"
      },
      "source": [
        "#### 2. Jika sebuah fungsi memiliki parameter, maka fungsi tersebut setiap dipanggil harus dimasukkan nilai parameternya."
      ]
    },
    {
      "cell_type": "code",
      "execution_count": 9,
      "metadata": {
        "id": "N8EqkgZ94hTh",
        "outputId": "3abd6f73-8c19-42c5-df7f-0fea525283cb",
        "colab": {
          "base_uri": "https://localhost:8080/"
        }
      },
      "outputs": [
        {
          "output_type": "execute_result",
          "data": {
            "text/plain": [
              "200"
            ]
          },
          "metadata": {},
          "execution_count": 9
        }
      ],
      "source": [
        "def perkalian (num1, num2):\n",
        "    hasil = num1 * num2 \n",
        "    return hasil\n",
        "\n",
        "perkalian(10, 20)"
      ]
    },
    {
      "cell_type": "markdown",
      "metadata": {
        "id": "0ScF0FM74hTh"
      },
      "source": [
        "#### 3. Jika sebuah fungsi memiliki parameter dengan nilai default, maka paramater yang memiliki nilai default menjadi optional untuk diberikan nilai.\n"
      ]
    },
    {
      "cell_type": "code",
      "execution_count": 10,
      "metadata": {
        "id": "f2kT1nCc4hTi",
        "outputId": "738dc744-ca4f-4933-cb5c-3ae1df0baf75",
        "colab": {
          "base_uri": "https://localhost:8080/"
        }
      },
      "outputs": [
        {
          "output_type": "stream",
          "name": "stdout",
          "text": [
            "0\n",
            "200\n"
          ]
        }
      ],
      "source": [
        "def perkalian2 (num1, num2 = 0):\n",
        "    return (num1*num2)\n",
        "\n",
        "print(perkalian2(10))\n",
        "print(perkalian2(10, 20))"
      ]
    },
    {
      "cell_type": "markdown",
      "metadata": {
        "id": "U9vhzwFO4hTi"
      },
      "source": [
        "#### 4. Dalam pemberian nilai ke dalam parameter kita harus memasukkannya secara berurutan."
      ]
    },
    {
      "cell_type": "code",
      "execution_count": 11,
      "metadata": {
        "id": "aBU0MIm14hTi",
        "outputId": "644d040a-a420-4509-8ac8-394f6a64a785",
        "colab": {
          "base_uri": "https://localhost:8080/"
        }
      },
      "outputs": [
        {
          "output_type": "stream",
          "name": "stdout",
          "text": [
            "halo Sehat-sehat, Diki\n",
            "halo Diki, Sehat-sehat\n",
            "halo Kamu, Apa kabar\n"
          ]
        }
      ],
      "source": [
        "def sapa (nama = \"Kamu\", sapaan = \"Apa kabar\"):\n",
        "    print(f\"halo {nama}, {sapaan}\")\n",
        "    \n",
        "sapa(\"Sehat-sehat\", \"Diki\")\n",
        "sapa(\"Diki\", \"Sehat-sehat\")\n",
        "sapa()"
      ]
    },
    {
      "cell_type": "markdown",
      "metadata": {
        "id": "etCQvp2A4hTi"
      },
      "source": [
        "#### 5. Jika ingin memasukkan nilai dengan urutan acak maka kita perlu memberikan tambahan nama paramaternya dan nilainya."
      ]
    },
    {
      "cell_type": "code",
      "execution_count": 12,
      "metadata": {
        "id": "JzKuHfFk4hTi",
        "outputId": "5a034f02-126d-4cf3-8f3a-faa0eb99e67f",
        "colab": {
          "base_uri": "https://localhost:8080/"
        }
      },
      "outputs": [
        {
          "output_type": "stream",
          "name": "stdout",
          "text": [
            "halo Diki, Sehat-sehat\n",
            "halo Diki, Sehat-sehat\n",
            "halo Kamu, Apa kabar\n"
          ]
        }
      ],
      "source": [
        "def sapa (nama = \"Kamu\", sapaan = \"Apa kabar\"):\n",
        "    print(f\"halo {nama}, {sapaan}\")\n",
        "\n",
        "kabar = \"Sehat-sehat\"\n",
        "siapa = \"Diki\"\n",
        "\n",
        "sapa(sapaan = kabar, nama = siapa )\n",
        "sapa(siapa, kabar)\n",
        "sapa()"
      ]
    },
    {
      "cell_type": "markdown",
      "metadata": {
        "id": "oyXbO7Wi4hTj"
      },
      "source": [
        "## D. Hints pada Parameter Function\n",
        "\n",
        "Hints berarti memberikan tipe data pada sebuah parameter"
      ]
    },
    {
      "cell_type": "code",
      "execution_count": 13,
      "metadata": {
        "id": "tdygxPAC4hTj",
        "colab": {
          "base_uri": "https://localhost:8080/"
        },
        "outputId": "7c03f70c-6d71-4ef1-cc30-9f6f5e19cc1c"
      },
      "outputs": [
        {
          "output_type": "execute_result",
          "data": {
            "text/plain": [
              "1"
            ]
          },
          "metadata": {},
          "execution_count": 13
        }
      ],
      "source": [
        "# def nama_function(paramater1: tipedata) -> tipedata_output:\n",
        "#     statement\n",
        "\n",
        "def hasil_sisa_bagi(num1:int, num2:int=2) -> int:\n",
        "    return (num1 % num2)\n",
        "\n",
        "hasil_sisa_bagi(num1 = 11, num2= 5)\n"
      ]
    },
    {
      "cell_type": "markdown",
      "metadata": {
        "id": "HBiHK4m64hTj"
      },
      "source": [
        "## E. Fungsi Rekursif\n",
        "\n",
        "Fungsi Rekursif adalah fungsi yang memanggil fungsinya sendiri (dirinya sendiri) di dalam statement fungsinya. Hal ini menyebabkan fungsinya membentuk looping secara menerus dan akan berhenti jika suatu kondisi memenuhi."
      ]
    },
    {
      "cell_type": "code",
      "execution_count": 14,
      "metadata": {
        "id": "VbuX-uvf4hTj",
        "outputId": "d6c1fd1b-ae06-4a3a-b6a5-6ca1d58187ff",
        "colab": {
          "base_uri": "https://localhost:8080/"
        }
      },
      "outputs": [
        {
          "output_type": "stream",
          "name": "stdout",
          "text": [
            "1\n",
            "2\n",
            "3\n",
            "4\n",
            "5\n",
            "6\n",
            "7\n",
            "8\n",
            "9\n",
            "10\n"
          ]
        }
      ],
      "source": [
        "def show_intervals(start, end):\n",
        "    print(start)\n",
        "    start = start + 1\n",
        "    if(start <= end):\n",
        "        show_intervals(start, end)\n",
        "\n",
        "show_intervals(1, 10)\n"
      ]
    },
    {
      "cell_type": "code",
      "execution_count": 15,
      "metadata": {
        "id": "KdI-nXgz4hTj",
        "outputId": "9d7bb1fc-8117-4212-8849-ac9414b1062d",
        "colab": {
          "base_uri": "https://localhost:8080/"
        }
      },
      "outputs": [
        {
          "output_type": "stream",
          "name": "stdout",
          "text": [
            "2\n",
            "4\n",
            "8\n",
            "16\n"
          ]
        }
      ],
      "source": [
        "def show_multiple(value):\n",
        "    print(value)\n",
        "    value = value + value\n",
        "    if value <= 20:\n",
        "        show_multiple(value)\n",
        "    \n",
        "show_multiple(2)"
      ]
    },
    {
      "cell_type": "code",
      "execution_count": 16,
      "metadata": {
        "id": "57kM7jjb4hTj",
        "outputId": "6992246a-7494-4292-e562-1217a2b9d449",
        "colab": {
          "base_uri": "https://localhost:8080/"
        }
      },
      "outputs": [
        {
          "output_type": "stream",
          "name": "stdout",
          "text": [
            "Hello Wolrd\n"
          ]
        }
      ],
      "source": [
        "def say_hi():\n",
        "    print(\"Hello Wolrd\")\n",
        "    \n",
        "say_hi()"
      ]
    },
    {
      "cell_type": "markdown",
      "source": [
        "## **F. Args dan Kwargs**\n",
        "\n",
        "*args dan **kwargs adalah parameter yang dapat menampung semua nilai/argumen yang masukkan pada method/fungsi dipanggil. **args menyimpan nilai-nilai ke dalam list, sedangkan kwargs menyimpan kumpulan keyword dan value ke dalam dictionary. "
      ],
      "metadata": {
        "id": "4ueb3W5e5FKT"
      }
    },
    {
      "cell_type": "markdown",
      "source": [
        "**args**"
      ],
      "metadata": {
        "id": "zwAcmBIp8xGk"
      }
    },
    {
      "cell_type": "code",
      "source": [
        "# *args\n",
        "# fungsi(10, 20, 30)\n",
        "# maka isi dari args adalah [10, 20, 30]\n",
        "\n",
        "# **kwargs\n",
        "# fungsi(nama=\"budi\", umur=\"20\")\n",
        "# maka isi dari args adalah {nama=\"budi\", umur=\"20\"}"
      ],
      "metadata": {
        "id": "XyAMaQVm6q_P"
      },
      "execution_count": 17,
      "outputs": []
    },
    {
      "cell_type": "code",
      "source": [
        "# *args\n",
        "def fungsi(*args):\n",
        "  print(args)\n",
        "\n",
        "fungsi(10,20,30)"
      ],
      "metadata": {
        "colab": {
          "base_uri": "https://localhost:8080/"
        },
        "id": "et18pJ8M6-B-",
        "outputId": "943863e0-be12-4302-a690-4fa34a16bd98"
      },
      "execution_count": 18,
      "outputs": [
        {
          "output_type": "stream",
          "name": "stdout",
          "text": [
            "(10, 20, 30)\n"
          ]
        }
      ]
    },
    {
      "cell_type": "code",
      "source": [
        "# parameter dan args\n",
        "def fungsi( nama, *nama_nama):\n",
        "  print(\"nama : \", nama)\n",
        "  print(\"args : \", nama_nama)\n",
        "\n",
        "fungsi(\"tono\", \"abdul\", \"joko\") # argumen pertama masuk ke var \"nama\", sisanya ditampung oleh args\n"
      ],
      "metadata": {
        "colab": {
          "base_uri": "https://localhost:8080/"
        },
        "id": "JoS1fYFq8FyS",
        "outputId": "3c2ae558-c464-48d0-d5fd-c385500e1c65"
      },
      "execution_count": 19,
      "outputs": [
        {
          "output_type": "stream",
          "name": "stdout",
          "text": [
            "nama :  tono\n",
            "args :  ('abdul', 'joko')\n"
          ]
        }
      ]
    },
    {
      "cell_type": "markdown",
      "source": [
        "**Kwargs**"
      ],
      "metadata": {
        "id": "e5WZGxCC8tmN"
      }
    },
    {
      "cell_type": "code",
      "source": [
        "def fungsi(**kwargs):\n",
        "  print(kwargs)\n",
        "\n",
        "fungsi(nama=\"diki\", alamat=\"Makassar\")"
      ],
      "metadata": {
        "colab": {
          "base_uri": "https://localhost:8080/"
        },
        "id": "Y1Cen2Bb9CZx",
        "outputId": "b8575d54-746e-4ed5-9964-22d8d1c85088"
      },
      "execution_count": 20,
      "outputs": [
        {
          "output_type": "stream",
          "name": "stdout",
          "text": [
            "{'nama': 'diki', 'alamat': 'Makassar'}\n"
          ]
        }
      ]
    },
    {
      "cell_type": "code",
      "source": [
        "def identitas(**data):\n",
        "  print(\"nama : \", data[\"nama\"])\n",
        "  print(\"nim : \", data[\"nim\"])\n",
        "  print(\"prodi : \", data[\"prodi\"])\n",
        "\n",
        "identitas(nama=\"abdul\", nim=\"H0712010XX\", prodi=\"Sastra Yunani\")\n"
      ],
      "metadata": {
        "colab": {
          "base_uri": "https://localhost:8080/"
        },
        "id": "iAEJqimp9UrY",
        "outputId": "837cfcb4-beb2-4c44-f1fb-06019971a63b"
      },
      "execution_count": 21,
      "outputs": [
        {
          "output_type": "stream",
          "name": "stdout",
          "text": [
            "nama :  abdul\n",
            "nim :  H0712010XX\n",
            "prodi :  Sastra Yunani\n"
          ]
        }
      ]
    },
    {
      "cell_type": "markdown",
      "source": [
        "# **Referensi Belajar Python:**\n",
        "\n",
        "YOUTUBE :\n",
        "* IDN https://www.youtube.com/playlist?list=PLZS-MHyEIRo59lUBwU-XHH7Ymmb04ffOY\n",
        "* IDN https://www.youtube.com/playlist?list=PL-CtdCApEFH_HY6bL3JER8WJOxz1nb3_H\n",
        "* ENG https://www.youtube.com/watch?v=_uQrJ0TkZlc&t=1028s\n",
        "* ENG https://www.youtube.com/watch?v=rfscVS0vtbw&t=938s\n",
        "\n",
        "WEBSITE : \n",
        "* IDN https://www.petanikode.com/tutorial/python/\n",
        "* ENG https://www.w3schools.com/python/\n",
        "* ENG https://www.programiz.com/python-programming"
      ],
      "metadata": {
        "id": "hJi9ATKH4mOU"
      }
    },
    {
      "cell_type": "markdown",
      "source": [
        "<font color='cyan' size=18 align=\"center\">\n",
        "TERIMA KASIH\n"
      ],
      "metadata": {
        "id": "06iCuGTJ4ptW"
      }
    }
  ],
  "metadata": {
    "kernelspec": {
      "display_name": "Python 3.10.4 64-bit",
      "language": "python",
      "name": "python3"
    },
    "language_info": {
      "codemirror_mode": {
        "name": "ipython",
        "version": 3
      },
      "file_extension": ".py",
      "mimetype": "text/x-python",
      "name": "python",
      "nbconvert_exporter": "python",
      "pygments_lexer": "ipython3",
      "version": "3.10.4"
    },
    "orig_nbformat": 4,
    "vscode": {
      "interpreter": {
        "hash": "6d29db0bf13e4997bd7784aadb3bbb89ad96b8369d18226b867be5340f02113b"
      }
    },
    "colab": {
      "provenance": [],
      "include_colab_link": true
    }
  },
  "nbformat": 4,
  "nbformat_minor": 0
}