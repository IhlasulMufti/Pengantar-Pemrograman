{
  "nbformat": 4,
  "nbformat_minor": 0,
  "metadata": {
    "colab": {
      "provenance": [],
      "collapsed_sections": [],
      "include_colab_link": true
    },
    "kernelspec": {
      "name": "python3",
      "display_name": "Python 3"
    },
    "language_info": {
      "name": "python"
    },
    "accelerator": "GPU"
  },
  "cells": [
    {
      "cell_type": "markdown",
      "metadata": {
        "id": "view-in-github",
        "colab_type": "text"
      },
      "source": [
        "<a href=\"https://colab.research.google.com/github/IhlasulMufti/Pengantar-Pemrograman/blob/python/2022/Pertemuan_1_Introduce_to_Python.ipynb\" target=\"_parent\"><img src=\"https://colab.research.google.com/assets/colab-badge.svg\" alt=\"Open In Colab\"/></a>"
      ]
    },
    {
      "cell_type": "markdown",
      "source": [
        "## **Cara Penggunaan Google Colab !!**\n",
        "\n",
        "**klik tanda 🔽 untuk expand program**\n",
        "> contoh: 🔽 A. Identifier\n",
        "\n",
        "**cara menjalankan program:**\n",
        "* klik  icon ▶️ di bagian sudut kiri atas\n",
        "* Ketik Cmd/Ctrl+Enter untuk menjalankan sel di tempatnya;\n",
        "* Ketik Shift+Enter untuk menjalankan sel dan memindahkan fokus ke sel berikutnya (menambahkan satu jika tidak ada);\n",
        "* Ketik Alt+Enter untuk menjalankan sel dan menyisipkan sel kode baru tepat di bawahnya. \n",
        "* note : biasanya running pertama kali agak lama\n",
        "\n",
        "\n",
        "\n",
        "<font color=\"yellow\" size=4>\n",
        "Silahkan pelajari programnya, BOLEH diubah-ubah isinya. Tidak akan berpengaruh ke file asli, reload page untuk mengembalikan file asli\n",
        "\n",
        "\n"
      ],
      "metadata": {
        "id": "XLuwe50uyO4G"
      }
    },
    {
      "cell_type": "markdown",
      "source": [
        "# **A. Identifier**\n",
        "\n",
        "Identifier bisa diawali dengan huruf A-Z atau a-z atau underscore (_) diikuti huruf, underscore, dan digit (0-9) \n"
      ],
      "metadata": {
        "id": "Ae2sbEAzQdQ0"
      }
    },
    {
      "cell_type": "code",
      "execution_count": 1,
      "metadata": {
        "colab": {
          "base_uri": "https://localhost:8080/"
        },
        "id": "oybFg2NGQV1d",
        "outputId": "4a31abe3-170c-4826-8fb2-a0ea57b9fe1d"
      },
      "outputs": [
        {
          "output_type": "stream",
          "name": "stdout",
          "text": [
            "7308073721710001\n"
          ]
        }
      ],
      "source": [
        "# menyimpan nilai (sbg variabel)\n",
        "PHI = 3.1415\n",
        "orang2_ = \"tono\"\n",
        "Age = 12\n",
        "_status = \"jomblo\"\n",
        "__NIK = 7308073721710001   \n",
        "\n",
        "\n",
        "print(__NIK) # ubah '__NIK' dengan identifier apa saja untuk meluhat hasilnya"
      ]
    },
    {
      "cell_type": "markdown",
      "source": [
        "<font color=\"yellow\">\n",
        "PENTING!!\n",
        "\n",
        "Materinya belum dipelajari 👇👇👇 (hanya gambaran penggunaan identifier)"
      ],
      "metadata": {
        "id": "HlLYU6d93cHI"
      }
    },
    {
      "cell_type": "code",
      "source": [
        "# menyimpan module\n",
        "import math as mt # mt adalah identifier\n",
        "\n",
        "# menyimpan function\n",
        "def funct_tambahkan(a,b):\n",
        "  return a+b\n",
        "jumlah = funct_tambahkan # funct_tambah sekarang bisa dipanggil dengan identifier 'jumlah'\n",
        "\n",
        "funct_tambahkan(5,5) # line 20 dan 21 code ini sama sama menghasilkan 10\n",
        "jumlah(5,5) # sama saja dengan yang diatas\n",
        "\n",
        "# menyimpan class\n",
        "class Mahasiswa:\n",
        "  nama = \"Ichsan Takwa\"\n",
        "  NIM = \"H071201058\"\n",
        "  prodi = \"Sistem Informasi\"\n",
        "  angkatan = 2020\n",
        "  def deskripsi(self):\n",
        "    print(self.nama,self.NIM,self.prodi,self.angkatan)\n",
        "\n",
        "Mhs = Mahasiswa # class 'Mahasiswa' sekarang dapat dipanggil dengan 'Mhs'\n",
        "Mhs();  Mahasiswa() # adalah class yang sama\n",
        "\n",
        "# menyimpan objek\n",
        "ichsan = Mhs() # ichsan adalah identifier yang menyimpan objek/instance dari class Mahasiswa\n",
        "\n",
        "print(ichsan.deskripsi()) # ubah '__NIK' dengan identifier apa saja untuk meluhat hasilnya"
      ],
      "metadata": {
        "colab": {
          "base_uri": "https://localhost:8080/"
        },
        "id": "e50cOiLh3TBE",
        "outputId": "904f1663-b56d-48e3-e17b-08b6f57002a1"
      },
      "execution_count": 2,
      "outputs": [
        {
          "output_type": "stream",
          "name": "stdout",
          "text": [
            "Ichsan Takwa H071201058 Sistem Informasi 2020\n",
            "None\n"
          ]
        }
      ]
    },
    {
      "cell_type": "markdown",
      "source": [
        "# **B. Keyword**\n",
        "kata-kata khusus yang memiliki arti dan tujuan tertentu dan tidak dapat digunakan untuk apa pun selain tujuan khusus tersebut\n"
      ],
      "metadata": {
        "id": "B3ivopM5RR-w"
      }
    },
    {
      "cell_type": "code",
      "source": [
        "# if\n",
        "# else\n",
        "# for\n",
        "# in\n",
        "# is\n",
        "# not\n",
        "# True\n",
        "# False\n",
        "# pass\n",
        "# raise\n",
        "# while\n",
        "# try\n",
        "# lambda\n",
        "# # dsb...\n",
        "\n",
        "# # keyword diatas tidak dapat digunakan sebagai identifier / variabel"
      ],
      "metadata": {
        "id": "lg46eCpARckB"
      },
      "execution_count": 3,
      "outputs": []
    },
    {
      "cell_type": "markdown",
      "source": [
        "# **Command**\n",
        "\n",
        "* command di python menggunakan simbol ' # ' kalimat di sebelah kanan simbol tsb merupakan bagian dari command. \n",
        "* command berfungsi untuk memudahkan programmer memberi penjelasan pada program. \n",
        "* pada saat program dijalankan command tidak akan dieksekusi oleh sistem. "
      ],
      "metadata": {
        "id": "iniFQHhE7_Y0"
      }
    },
    {
      "cell_type": "markdown",
      "source": [
        "# **C. Variabel** \n",
        "Sebuah variabel dapat memiliki nama pendek (seperti x dan y) atau nama yang lebih deskriptif. Aturan untuk variabel Python:\n",
        "\n",
        "\n",
        "*   Nama variabel harus dimulai dengan huruf atau karakter garis bawah\n",
        "*   Nama variabel tidak boleh diawali dengan angka\n",
        "\n",
        "*   Nama variabel hanya boleh berisi karakter alfanumerik dan garis bawah (A-z, 0-9, dan (_)\n",
        "*   Nama variabel sensitif huruf besar/kecil (usia, Usia, dan USIA adalah tiga variabel berbeda)\n",
        "\n",
        "\n",
        "\n"
      ],
      "metadata": {
        "id": "kwjHXiu0ZHpd"
      }
    },
    {
      "cell_type": "code",
      "source": [
        "# # contoh variabel yang benar\n",
        "# NAMA\n",
        "# No_hp\n",
        "# Alamat\n",
        "# tempatTinggal\n",
        "# _status\n",
        "# __NIK\n",
        "# hobi1\n",
        "# hobi_2"
      ],
      "metadata": {
        "id": "Rud7jCaGZitt"
      },
      "execution_count": 4,
      "outputs": []
    },
    {
      "cell_type": "markdown",
      "source": [
        "# **D. Data Types**\n",
        "Variabel dapat menyimpan data dari tipe yang berbeda, dan tipe yang berbeda dapat melakukan hal yang berbeda. Berikut tipe data pada python:\n",
        "\n",
        "\n",
        "\n",
        "*\tText Type\t.............. :\tstr\n",
        "*\tNumeric Types\t.... : \tint, float, complex\n",
        "*\tSequence Types ..\t:\tlist, tuple, range\n",
        "*\tMapping Type\t...... :\tdict\n",
        "*\tSet Types ..............\t:\tset, frozenset\n",
        "*\tBoolean Type .......\t:\tbool\n",
        "*\tBinary Types ........\t:\tbytes, bytearray, memoryview\n",
        "*\tNone Type ............\t:\tNoneType\n",
        "\n",
        "\n",
        "\n"
      ],
      "metadata": {
        "id": "FyjitYrqb_Mu"
      }
    },
    {
      "cell_type": "code",
      "source": [
        "str1 = \"Thanos S.Pd.\" # string\n",
        "str2 = 'Hulk S.Ked.' # string\n",
        "\n",
        "int1 = 20    # int\n",
        "int2 = -102  # int\n",
        "flt1 = 3.14  # float\n",
        "flt2 = 2.71  # float\n",
        "\n",
        "bool1 = True # boolean\n",
        "bool2 = False # boolean\n",
        "\n",
        "\n"
      ],
      "metadata": {
        "id": "oLRi7Ht6c6he"
      },
      "execution_count": 5,
      "outputs": []
    },
    {
      "cell_type": "markdown",
      "source": [
        "<font color=\"yellow\">\n",
        "PENTING!!\n",
        "\n",
        "Materinya belum dipelajari 👇👇👇 (hanya gambaran penggunaan identifier)"
      ],
      "metadata": {
        "id": "8BRb2KyY36tq"
      }
    },
    {
      "cell_type": "code",
      "source": [
        "cpx1 = 2j  # complex\n",
        "\n",
        "byt = bytes(10) # bytes\n",
        "bytarr = bytearray(10) # bytearray\n",
        "memvw = memoryview(bytes(10)) # memoryview\n",
        "\n",
        "lst = [1,2,'sapi',4,'rakun'] # list\n",
        "\n",
        "tpl = ('pisang', 10, 'mangga') #tuple\n",
        "\n",
        "rge = range(10) # range\n",
        "\n",
        "dct = {'nama' : 'thoriq', 'usia': 20} #dict\n",
        "\n",
        "stt = {'tobi','tono','thoriq'} # set\n",
        "\n",
        "frst = frozenset({'tobi','tono','thoriq'}) # frozenset\n",
        "\n",
        "none = None # NoneType\n",
        "\n",
        "print( int1, flt1) # ubah 'int1, flt1' dengan variabel apa saja diatas untuk melihat hasilnya"
      ],
      "metadata": {
        "id": "Jiga9KSe36Zn",
        "colab": {
          "base_uri": "https://localhost:8080/"
        },
        "outputId": "df0f8491-7e80-41b9-a6bb-0f188dc29396"
      },
      "execution_count": 6,
      "outputs": [
        {
          "output_type": "stream",
          "name": "stdout",
          "text": [
            "20 3.14\n"
          ]
        }
      ]
    },
    {
      "cell_type": "markdown",
      "source": [
        "# **E.\t Operators**\n",
        "Operator pada Pemrograman Python dapat disimbolkan dengan tanda atau karakter seperti +, -, *, /, **, % dan sebagainya"
      ],
      "metadata": {
        "id": "eHreE-cZaKQ7"
      }
    },
    {
      "cell_type": "markdown",
      "source": [
        "**Operator Aritmatika**\n",
        "\n",
        "* ' + '\tPenjumlahan\n",
        "* ' - '\tPengurangan\n",
        "* ' * '\tPerkalian\n",
        "* ' / '\tPembagian\n",
        "* ' // '\tPembagian (dibulatkan kebawah)\n",
        "* ' % '\tSisa Bagi / Modulo\n"
      ],
      "metadata": {
        "id": "6TLhOlW-agHP"
      }
    },
    {
      "cell_type": "code",
      "source": [
        "a = 10\n",
        "b = 6\n",
        "\n",
        "jumlah = a + b \n",
        "kurang = a - b\n",
        "bagi = a / b\n",
        "bagi_pembulatan = a // b\n",
        "kali = a * b\n",
        "modulo = b % a\n",
        "\n",
        "# print nilai variabel-variabel diatas\n",
        "print( 100*0.2 ) # 100 x 0.2 = 20.0; tipedata: foat"
      ],
      "metadata": {
        "colab": {
          "base_uri": "https://localhost:8080/"
        },
        "id": "Ts_aTohNaS_-",
        "outputId": "3c76034b-db7d-4381-a5aa-07db69453009"
      },
      "execution_count": 7,
      "outputs": [
        {
          "output_type": "stream",
          "name": "stdout",
          "text": [
            "20.0\n"
          ]
        }
      ]
    },
    {
      "cell_type": "markdown",
      "source": [
        "**Operator Pembanding**\n",
        "\n",
        "* ' > '\tLebih Besar\n",
        "* ' < '\tLebih Kecil\n",
        "* ' == '\tSama Dengan\n",
        "* ' != '\tTidak Sama dengan \n",
        "* ' >= '\tBesar Sama dengan\n",
        "* ' <= '\tLebih Kecil Sama dengan\n"
      ],
      "metadata": {
        "id": "WCyv9ltGbPMH"
      }
    },
    {
      "cell_type": "code",
      "source": [
        "print( 100 > 120) # False (salah); typedata : bool/boolean"
      ],
      "metadata": {
        "colab": {
          "base_uri": "https://localhost:8080/"
        },
        "id": "x_RdasIkbfjI",
        "outputId": "f1e5b572-bd93-4fd6-f474-c1b75453dcf5"
      },
      "execution_count": 8,
      "outputs": [
        {
          "output_type": "stream",
          "name": "stdout",
          "text": [
            "False\n"
          ]
        }
      ]
    },
    {
      "cell_type": "markdown",
      "source": [
        "**Operator Penugasan**\n",
        "\n",
        "* ' = '\tAssignment\n",
        "* ' += '\tPenjumlahan\n",
        "* ' -= '\tPengurangan\n",
        "* ' *= '\tPerkalian\n",
        "* ' /= '\tPembagian\n",
        "* ' //= '\tPembagian (dibulatkan kebawah)\n",
        "* ' %= '\tSisa Bagi / Modulo\n"
      ],
      "metadata": {
        "id": "TJnufh0KiMJK"
      }
    },
    {
      "cell_type": "code",
      "source": [
        "a = 12\n",
        "a /= 3\n",
        "print(a)"
      ],
      "metadata": {
        "colab": {
          "base_uri": "https://localhost:8080/"
        },
        "id": "dXtBP1_3ih_a",
        "outputId": "917d429a-ed45-4777-fb7a-3e16ae6b5fe0"
      },
      "execution_count": 9,
      "outputs": [
        {
          "output_type": "stream",
          "name": "stdout",
          "text": [
            "4.0\n"
          ]
        }
      ]
    },
    {
      "cell_type": "markdown",
      "source": [
        "**Operator Logical**\n",
        "\n",
        "* ' and '\tdan\n",
        "* ' or '\tatau\n",
        "* ' not '\tingkaran/negasi\n"
      ],
      "metadata": {
        "id": "66Y8PfX0inky"
      }
    },
    {
      "cell_type": "code",
      "source": [
        "a = 12 > 10\n",
        "b = 2 == 2\n",
        "\n",
        "x = a and b\n",
        "\n",
        "print(' a:',a,'\\n b:', b, '\\n a and b:',x) # \\n = baris baru"
      ],
      "metadata": {
        "colab": {
          "base_uri": "https://localhost:8080/"
        },
        "id": "0RdffHuaimw1",
        "outputId": "37d2455b-766d-4930-e628-1caaa777a691"
      },
      "execution_count": 10,
      "outputs": [
        {
          "output_type": "stream",
          "name": "stdout",
          "text": [
            " a: True \n",
            " b: True \n",
            " a and b: True\n"
          ]
        }
      ]
    },
    {
      "cell_type": "code",
      "source": [
        "a = 12 > 10\n",
        "b = 2 == 2\n",
        "\n",
        "x = a and b\n",
        "y = not x\n",
        "print(' a:',a,'\\n b:', b, '\\n a and b:',x, '\\n not x:',y) # \\n = baris baru"
      ],
      "metadata": {
        "colab": {
          "base_uri": "https://localhost:8080/"
        },
        "id": "_ndPv7mXi9ug",
        "outputId": "14f5028f-2f54-4b5f-ac6f-826c64dfe64d"
      },
      "execution_count": 11,
      "outputs": [
        {
          "output_type": "stream",
          "name": "stdout",
          "text": [
            " a: True \n",
            " b: True \n",
            " a and b: True \n",
            " not x: False\n"
          ]
        }
      ]
    },
    {
      "cell_type": "markdown",
      "source": [
        "**Operator Keanggotaan**\n",
        "\n",
        "* ' in '\tMenghasilkan nilai TRUE jika nilai yang ditentukan berada dalam objek tertentu\n",
        "* ' not in '\tMenghasilkan nilai TRUE jika nilai yang ditentukan tidak ada dalam objek tertentu\n"
      ],
      "metadata": {
        "id": "cOZwYVhrid22"
      }
    },
    {
      "cell_type": "code",
      "source": [
        "ls = [1,2,'sapi',4,'rakun']\n",
        "x = 'sapi' in ls\n",
        "\n",
        "print(\"apakah terdapat 'sapi' di ls?\", x)"
      ],
      "metadata": {
        "colab": {
          "base_uri": "https://localhost:8080/"
        },
        "id": "DvOB-sN9jkfM",
        "outputId": "f09f2ff4-e198-4278-a273-7cdcc5af387d"
      },
      "execution_count": 12,
      "outputs": [
        {
          "output_type": "stream",
          "name": "stdout",
          "text": [
            "apakah terdapat 'sapi' di ls? True\n"
          ]
        }
      ]
    },
    {
      "cell_type": "markdown",
      "source": [],
      "metadata": {
        "id": "-wiMNieykJJC"
      }
    },
    {
      "cell_type": "markdown",
      "source": [
        "**Operator Identitas**\n",
        "\n",
        "* is\tMenghasilkan nilai TRUE jika kedua nilai operand memiliki identitas yang sama.\n",
        "* not is\tMenghasilkan nilai FALSE jika kedua nilai operand memiliki identitas yang sama.\n"
      ],
      "metadata": {
        "id": "Gbz18czokLh_"
      }
    },
    {
      "cell_type": "code",
      "source": [
        "a = 41\n",
        "\n",
        "x = a is 41\n",
        "\n",
        "print(\"a adalah 41?? \", x)"
      ],
      "metadata": {
        "colab": {
          "base_uri": "https://localhost:8080/"
        },
        "id": "PQKv1om5kRzB",
        "outputId": "77796954-8455-4ba7-cd9f-04f8068ea94c"
      },
      "execution_count": 13,
      "outputs": [
        {
          "output_type": "stream",
          "name": "stdout",
          "text": [
            "a adalah 41??  True\n"
          ]
        }
      ]
    },
    {
      "cell_type": "markdown",
      "source": [
        "**Operator Bitwise**\n",
        "\n",
        "* ' &\t' and\n",
        "* ' |\t' or\n",
        "* ' ^\t' xor\n",
        "* ' ~\t' not\n",
        "* ' <<\t' left shift\n",
        "* ' >>\t' right shift\n",
        "\n",
        "\n",
        "referensi : https://realpython.com/python-bitwise-operators/\n"
      ],
      "metadata": {
        "id": "C9OIQs_yk_sk"
      }
    },
    {
      "cell_type": "code",
      "source": [
        "a = 5   #   101\n",
        "b = 22  # 10110\n",
        "        #   100\n",
        "        # digit ke-1 nilai bit dari '5' dan digit ke-3 nilai bit dari '22' sama sama bernilai 1 shg\n",
        "x =  a & b # 100 dlm desimal: 4 \n",
        "print(x)"
      ],
      "metadata": {
        "colab": {
          "base_uri": "https://localhost:8080/"
        },
        "id": "rUs1Hy5IlbaM",
        "outputId": "7e8ff1bb-91a1-470a-d6cf-51c93d9a153b"
      },
      "execution_count": 14,
      "outputs": [
        {
          "output_type": "stream",
          "name": "stdout",
          "text": [
            "4\n"
          ]
        }
      ]
    },
    {
      "cell_type": "code",
      "source": [
        "a = 10  # 1010\n",
        "x = a<<3  # shift left 3x \n",
        "          # 1010000 : dlm desimal = 80\n",
        "print(x) "
      ],
      "metadata": {
        "colab": {
          "base_uri": "https://localhost:8080/"
        },
        "id": "jWzNE2e1nrb-",
        "outputId": "7e3dce50-e37c-4157-c3c3-65fbff95e749"
      },
      "execution_count": 15,
      "outputs": [
        {
          "output_type": "stream",
          "name": "stdout",
          "text": [
            "80\n"
          ]
        }
      ]
    },
    {
      "cell_type": "markdown",
      "source": [
        "**Operator Precedence**\n",
        "\n",
        "Operator Precedence adalah operator yang membarikan lebih dari satu penugasan dalam satu statement.\n"
      ],
      "metadata": {
        "id": "grnyasNSoHK0"
      }
    },
    {
      "cell_type": "code",
      "source": [
        "a,b,c = 1,2,3\n",
        "\n",
        "print('a:', a, '\\nb:',b, '\\nc:',c)  # \\n = baris baru"
      ],
      "metadata": {
        "colab": {
          "base_uri": "https://localhost:8080/"
        },
        "id": "DOPUwEFhoGfG",
        "outputId": "95da7d6c-48bb-435e-98ac-1509aa127a53"
      },
      "execution_count": 16,
      "outputs": [
        {
          "output_type": "stream",
          "name": "stdout",
          "text": [
            "a: 1 \n",
            "b: 2 \n",
            "c: 3\n"
          ]
        }
      ]
    },
    {
      "cell_type": "markdown",
      "source": [
        "**Operator Associativity**\n",
        "\n",
        "Operator Associativity adalah operator dalam python yang dapat menggabungkan lebih dari satu operator aritmatika.\n"
      ],
      "metadata": {
        "id": "Hn6rJ17goZRC"
      }
    },
    {
      "cell_type": "code",
      "source": [
        "x = (205-100) / 5**2 *5  # (105) / 25 * 5 \n",
        "print(x)"
      ],
      "metadata": {
        "colab": {
          "base_uri": "https://localhost:8080/"
        },
        "id": "3DraxhVJoo8H",
        "outputId": "6565341c-e58e-4762-ce1e-0142eb77a851"
      },
      "execution_count": 17,
      "outputs": [
        {
          "output_type": "stream",
          "name": "stdout",
          "text": [
            "21.0\n"
          ]
        }
      ]
    },
    {
      "cell_type": "markdown",
      "source": [
        "# **F.\tStatements**\n",
        "Statement adalah pernyataan atau instruksi yang diberikan untuk dieksekusi oleh mesin. "
      ],
      "metadata": {
        "id": "HnnOSXslR4BI"
      }
    },
    {
      "cell_type": "code",
      "source": [
        "a = 12 # adalah statement\\\n",
        "a = a+12 # adalah statement\n",
        "b = '24'\n",
        "if a != b:                      #\n",
        "  print('a dan b tidak sama')   # dua baris ini dianggap satu statement"
      ],
      "metadata": {
        "colab": {
          "base_uri": "https://localhost:8080/"
        },
        "id": "BRkmy11NSE1A",
        "outputId": "3266c754-893f-41d7-8b24-03253cbdc6eb"
      },
      "execution_count": 18,
      "outputs": [
        {
          "output_type": "stream",
          "name": "stdout",
          "text": [
            "a dan b tidak sama\n"
          ]
        }
      ]
    },
    {
      "cell_type": "markdown",
      "source": [
        "# **G. Expression**\n",
        "Expressions adalah kombinasi dari operator yang diinterpretasikan untuk menghasilkan beberapa nilai lain. "
      ],
      "metadata": {
        "id": "PZTo5ZH1TFN7"
      }
    },
    {
      "cell_type": "markdown",
      "source": [
        "**Constant Expression**\n",
        "\n",
        "Constant Expressions adalah ekspresi yang hanya memiliki nilai konstan.\n",
        "\n"
      ],
      "metadata": {
        "id": "ML75BJP6S_7q"
      }
    },
    {
      "cell_type": "code",
      "source": [
        "PHI = 3.14\n",
        "GRAVITY = 9.8\n",
        "jumlah = 14\n",
        "_alamat = \"jl.pisang\"\n",
        "\n",
        "print(PHI, GRAVITY, jumlah, _alamat)"
      ],
      "metadata": {
        "id": "hTCVSYm4S0uh",
        "colab": {
          "base_uri": "https://localhost:8080/"
        },
        "outputId": "caa95ea3-eadb-4a91-9563-c2f83acf0e67"
      },
      "execution_count": 19,
      "outputs": [
        {
          "output_type": "stream",
          "name": "stdout",
          "text": [
            "3.14 9.8 14 jl.pisang\n"
          ]
        }
      ]
    },
    {
      "cell_type": "markdown",
      "source": [
        "**Arithmetic Expressions**\n",
        "\n",
        "Arithmetic Expressions adalah kombinasi dari nilai numerik, operator, dan terkadang tanda kurung"
      ],
      "metadata": {
        "id": "gSc4MDxITnXN"
      }
    },
    {
      "cell_type": "code",
      "source": [
        "a = 2*(12+6)\n",
        "b = 5**2\n",
        "\n",
        "print(a,b)"
      ],
      "metadata": {
        "colab": {
          "base_uri": "https://localhost:8080/"
        },
        "id": "PW2iqEVbTv60",
        "outputId": "436230fc-5739-48af-832e-c3cf13ee31ed"
      },
      "execution_count": 20,
      "outputs": [
        {
          "output_type": "stream",
          "name": "stdout",
          "text": [
            "36 25\n"
          ]
        }
      ]
    },
    {
      "cell_type": "markdown",
      "source": [
        "**Integer Expressions**\n",
        "\n",
        "Integer Expressions adalah jenis ekspresi yang hanya menghasilkan hasil bilangan bulat setelah semua perhitungan dan konversi tipe datanya."
      ],
      "metadata": {
        "id": "KCOWPNe-U7tO"
      }
    },
    {
      "cell_type": "code",
      "source": [
        "x = 120\n",
        "y = 1\n",
        "z = int(10.123)\n",
        "\n",
        "print(x,y,z)"
      ],
      "metadata": {
        "colab": {
          "base_uri": "https://localhost:8080/"
        },
        "id": "V2Dt0w9AUy_i",
        "outputId": "681cd39c-1233-4c7e-96e8-d4be3afd101a"
      },
      "execution_count": 21,
      "outputs": [
        {
          "output_type": "stream",
          "name": "stdout",
          "text": [
            "120 1 10\n"
          ]
        }
      ]
    },
    {
      "cell_type": "markdown",
      "source": [
        "**Floating Expressions**\n",
        "\n",
        "Floating Expressions adalah jenis ekspresi yang menghasilkan angka floating point sebagai hasil setelah semua perhitungan dan konversi tipe datanya.\n"
      ],
      "metadata": {
        "id": "z29l-TYFVfr3"
      }
    },
    {
      "cell_type": "code",
      "source": [
        "x = 3/2\n",
        "y = 2.17\n",
        "z = float(\"2.71828\")\n",
        "\n",
        "print(\" x:\",x, \"\\n y:\",y, \"\\n z:\",z) # \\n digunakan untuk mencetak output di baris baru"
      ],
      "metadata": {
        "colab": {
          "base_uri": "https://localhost:8080/"
        },
        "id": "aEafVgbyVlsz",
        "outputId": "0a8c64c5-ab75-4828-a8e4-ffa419fe8b94"
      },
      "execution_count": 22,
      "outputs": [
        {
          "output_type": "stream",
          "name": "stdout",
          "text": [
            " x: 1.5 \n",
            " y: 2.17 \n",
            " z: 2.71828\n"
          ]
        }
      ]
    },
    {
      "cell_type": "markdown",
      "source": [
        "**Relational Expressions**\n",
        "\n",
        "ekspresi aritmatika ditulis di kedua sisi operator relasional (>, < , >= , <=). "
      ],
      "metadata": {
        "id": "1_rNs6OLYrTm"
      }
    },
    {
      "cell_type": "code",
      "source": [
        "a =  (100+2) > (90+10) # True\n",
        "b =  (22/2) <= (2*5) # False\n",
        "c =  (2+2) == (2*2) # True\n",
        "\n",
        "print('a :', a, 'b:', b,'c :', c)"
      ],
      "metadata": {
        "colab": {
          "base_uri": "https://localhost:8080/"
        },
        "id": "XHYqcMLNYz9E",
        "outputId": "3cc63e06-9f4b-403f-bae7-4a50cd0e6a51"
      },
      "execution_count": 23,
      "outputs": [
        {
          "output_type": "stream",
          "name": "stdout",
          "text": [
            "a : True b: False c : True\n"
          ]
        }
      ]
    },
    {
      "cell_type": "markdown",
      "source": [
        "**Logical Expressions**\n",
        "\n",
        "Logical Expressions adalah jenis ekspresi yang menghasilkan True atau False. Ini pada dasarnya menentukan satu atau lebih kondisi\n"
      ],
      "metadata": {
        "id": "eZwCWHM2p2D3"
      }
    },
    {
      "cell_type": "code",
      "source": [
        "a = 10 == 9 # False\n",
        "b = 132 > 100 # True\n",
        "\n",
        "print('a :', a, 'b:', b)"
      ],
      "metadata": {
        "colab": {
          "base_uri": "https://localhost:8080/"
        },
        "id": "fLshdAoEqoZW",
        "outputId": "4991c191-7df0-4faf-c8d7-9846b680a4e1"
      },
      "execution_count": 24,
      "outputs": [
        {
          "output_type": "stream",
          "name": "stdout",
          "text": [
            "a : False b: True\n"
          ]
        }
      ]
    },
    {
      "cell_type": "markdown",
      "source": [
        "**Bitwise Expressions**\n",
        "\n",
        "Bitwise Expressions adalah jenis ekspresi dimana perhitungan dilakukan pada tingkat bit.\n"
      ],
      "metadata": {
        "id": "NwTG0eK8rF0S"
      }
    },
    {
      "cell_type": "code",
      "source": [
        "a = 5 & 22 #  4\n",
        "b = 5 | 22 # 23\n",
        "c = 102 << 4 # 1632\n",
        "d = ~400 # -401\n",
        "\n",
        "print('a :', a, 'b:', b, 'c :', c, 'd:', d)"
      ],
      "metadata": {
        "colab": {
          "base_uri": "https://localhost:8080/"
        },
        "id": "rygsMTl1rLg7",
        "outputId": "7af1cb17-a4a1-486b-e8b1-0d1e78da9114"
      },
      "execution_count": 25,
      "outputs": [
        {
          "output_type": "stream",
          "name": "stdout",
          "text": [
            "a : 4 b: 23 c : 1632 d: -401\n"
          ]
        }
      ]
    },
    {
      "cell_type": "markdown",
      "source": [
        "**Combinational Expressions**\n",
        "\n",
        "Combinational Expressions adalah jenis ekspresi dengan menggabungkan berbagai ekspresi kemudain menjadikan satu ekspresi.\n"
      ],
      "metadata": {
        "id": "MiKBEPPIr7ZE"
      }
    },
    {
      "cell_type": "code",
      "source": [
        "x = (200 + 3) - (6 << 1) # 191\n",
        "y = (200 & 160) / 4  # 32\n",
        "\n",
        "print('x :', x, 'y:', y)"
      ],
      "metadata": {
        "colab": {
          "base_uri": "https://localhost:8080/"
        },
        "id": "aOnRyDFEr6ZD",
        "outputId": "a0bd3c84-aeec-41ec-92f5-b5ace070c34f"
      },
      "execution_count": 26,
      "outputs": [
        {
          "output_type": "stream",
          "name": "stdout",
          "text": [
            "x : 191 y: 32.0\n"
          ]
        }
      ]
    },
    {
      "cell_type": "markdown",
      "source": [
        "# **Konversi/Casting Tipe Data** "
      ],
      "metadata": {
        "id": "RzkKyc0Xx24D"
      }
    },
    {
      "cell_type": "code",
      "source": [
        "a = '10' # string\n",
        "print(type(a), a)"
      ],
      "metadata": {
        "colab": {
          "base_uri": "https://localhost:8080/"
        },
        "id": "yE3IYCQYxz47",
        "outputId": "fc9ac33e-05eb-45e6-af59-4a0938fc8e31"
      },
      "execution_count": 27,
      "outputs": [
        {
          "output_type": "stream",
          "name": "stdout",
          "text": [
            "<class 'str'> 10\n"
          ]
        }
      ]
    },
    {
      "cell_type": "code",
      "source": [
        "a = '10' # string\n",
        "b = int(a) # string ke int\n",
        "\n",
        "print(type(b), b)"
      ],
      "metadata": {
        "colab": {
          "base_uri": "https://localhost:8080/"
        },
        "id": "cU_8kZZIyDYt",
        "outputId": "677c078c-baea-49be-8438-e75b7b3f5ee5"
      },
      "execution_count": 28,
      "outputs": [
        {
          "output_type": "stream",
          "name": "stdout",
          "text": [
            "<class 'int'> 10\n"
          ]
        }
      ]
    },
    {
      "cell_type": "code",
      "source": [
        "a = '10.45' # string\n",
        "b = float(a) # string ke float\n",
        "print(type(b), b)"
      ],
      "metadata": {
        "colab": {
          "base_uri": "https://localhost:8080/"
        },
        "id": "0kQnTddryQ2-",
        "outputId": "3cecdf5d-6643-4cd9-dbfd-649b7be4a4ca"
      },
      "execution_count": 29,
      "outputs": [
        {
          "output_type": "stream",
          "name": "stdout",
          "text": [
            "<class 'float'> 10.45\n"
          ]
        }
      ]
    },
    {
      "cell_type": "markdown",
      "source": [
        "# **User Input**\n",
        "\n",
        "menerima data langsung dari input keyboard saat program dijalankan dengan tipe default 'string'\n"
      ],
      "metadata": {
        "id": "-kzAUxYWwiIJ"
      }
    },
    {
      "cell_type": "code",
      "source": [
        "nama = input(\"Siapa namamu? \") \n",
        "print(\"hallo\", nama, \"apa kabar?\")"
      ],
      "metadata": {
        "colab": {
          "base_uri": "https://localhost:8080/"
        },
        "id": "itXEpUcHwvSl",
        "outputId": "23f43107-2962-4524-e29e-25f75517b46b"
      },
      "execution_count": 30,
      "outputs": [
        {
          "output_type": "stream",
          "name": "stdout",
          "text": [
            "Siapa namamu? Mufti\n",
            "hallo Mufti apa kabar?\n"
          ]
        }
      ]
    },
    {
      "cell_type": "code",
      "source": [
        "#program hitung keliling persegi\n",
        "sisi = int(input(\"Masukkan panjang sisi? \")) # input bertipe string, harus dikonversi ke int\n",
        "                                             #  agar dapat dioperasikan menggunakan operasi artematik \n",
        "hasil = 4*sisi\n",
        "print(\"keliling persegi: \", hasil)"
      ],
      "metadata": {
        "colab": {
          "base_uri": "https://localhost:8080/"
        },
        "id": "vItZ4uOSxFHh",
        "outputId": "221f5b18-0bb7-45d7-8abc-c995fe0cb06a"
      },
      "execution_count": 31,
      "outputs": [
        {
          "output_type": "stream",
          "name": "stdout",
          "text": [
            "Masukkan panjang sisi? 90\n",
            "keliling persegi:  360\n"
          ]
        }
      ]
    },
    {
      "cell_type": "markdown",
      "source": [
        "# **Referensi Belajar Python:**\n",
        "\n",
        "YOUTUBE :\n",
        "* IDN https://www.youtube.com/playlist?list=PLZS-MHyEIRo59lUBwU-XHH7Ymmb04ffOY\n",
        "* IDN https://www.youtube.com/playlist?list=PL-CtdCApEFH_HY6bL3JER8WJOxz1nb3_H\n",
        "* ENG https://www.youtube.com/watch?v=_uQrJ0TkZlc&t=1028s\n",
        "* ENG https://www.youtube.com/watch?v=rfscVS0vtbw&t=938s\n",
        "\n",
        "WEBSITE : \n",
        "* IDN https://www.petanikode.com/tutorial/python/\n",
        "* ENG https://www.w3schools.com/python/\n",
        "* ENG https://www.programiz.com/python-programming\n"
      ],
      "metadata": {
        "id": "7SbtmeJV6YGq"
      }
    },
    {
      "cell_type": "markdown",
      "source": [
        "<font color='cyan' size=18 align=\"center\">\n",
        "TERIMA KASIH\n",
        "\n"
      ],
      "metadata": {
        "id": "EDjY_PXB4_C7"
      }
    }
  ]
}